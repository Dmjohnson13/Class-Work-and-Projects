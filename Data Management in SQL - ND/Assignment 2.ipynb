{
    "metadata": {
        "kernelspec": {
            "name": "SQL",
            "display_name": "SQL",
            "language": "sql"
        },
        "language_info": {
            "name": "sql",
            "version": ""
        }
    },
    "nbformat_minor": 2,
    "nbformat": 4,
    "cells": [
        {
            "cell_type": "code",
            "source": [
                "-- Use AdventureWorks data\n",
                "USE AdventureWorks2014"
            ],
            "metadata": {
                "azdata_cell_guid": "0373a030-ba8b-4b77-ac10-fca2fe4be179",
                "language": "sql"
            },
            "outputs": [
                {
                    "output_type": "display_data",
                    "data": {
                        "text/html": "Commands completed successfully."
                    },
                    "metadata": {}
                },
                {
                    "output_type": "display_data",
                    "data": {
                        "text/html": "Total execution time: 00:00:00.033"
                    },
                    "metadata": {}
                }
            ],
            "execution_count": 1
        },
        {
            "cell_type": "markdown",
            "source": [
                "**PROBLEM 1**"
            ],
            "metadata": {
                "azdata_cell_guid": "213a6e8b-4530-4532-9eb6-411602db9cfa"
            },
            "attachments": {}
        },
        {
            "cell_type": "code",
            "source": [
                "-- Part A\n",
                "\n",
                "SELECT\n",
                "    a.Name AS TerritoryName,\n",
                "    ROUND(SUM(b.SubTotal), 0) AS TotalSalesRevenue\n",
                "FROM Sales.SalesOrderHeader b\n",
                "JOIN Sales.SalesTerritory a \n",
                "    ON b.TerritoryID = a.TerritoryID\n",
                "GROUP BY a.Name\n",
                "ORDER BY TotalSalesRevenue DESC"
            ],
            "metadata": {
                "azdata_cell_guid": "a3043899-b36b-406e-9462-3b34fac4dd14",
                "language": "sql"
            },
            "outputs": [
                {
                    "output_type": "display_data",
                    "data": {
                        "text/html": "(10 rows affected)"
                    },
                    "metadata": {}
                },
                {
                    "output_type": "display_data",
                    "data": {
                        "text/html": "Total execution time: 00:00:00.048"
                    },
                    "metadata": {}
                },
                {
                    "output_type": "execute_result",
                    "metadata": {},
                    "execution_count": 2,
                    "data": {
                        "application/vnd.dataresource+json": {
                            "schema": {
                                "fields": [
                                    {
                                        "name": "TerritoryName"
                                    },
                                    {
                                        "name": "TotalSalesRevenue"
                                    }
                                ]
                            },
                            "data": [
                                {
                                    "TerritoryName": "Southwest",
                                    "TotalSalesRevenue": "24184610.00"
                                },
                                {
                                    "TerritoryName": "Canada",
                                    "TotalSalesRevenue": "16355770.00"
                                },
                                {
                                    "TerritoryName": "Northwest",
                                    "TotalSalesRevenue": "16084943.00"
                                },
                                {
                                    "TerritoryName": "Australia",
                                    "TotalSalesRevenue": "10655336.00"
                                },
                                {
                                    "TerritoryName": "Central",
                                    "TotalSalesRevenue": "7909009.00"
                                },
                                {
                                    "TerritoryName": "Southeast",
                                    "TotalSalesRevenue": "7879655.00"
                                },
                                {
                                    "TerritoryName": "United Kingdom",
                                    "TotalSalesRevenue": "7670721.00"
                                },
                                {
                                    "TerritoryName": "France",
                                    "TotalSalesRevenue": "7251556.00"
                                },
                                {
                                    "TerritoryName": "Northeast",
                                    "TotalSalesRevenue": "6939374.00"
                                },
                                {
                                    "TerritoryName": "Germany",
                                    "TotalSalesRevenue": "4915408.00"
                                }
                            ]
                        },
                        "text/html": [
                            "<table>",
                            "<tr><th>TerritoryName</th><th>TotalSalesRevenue</th></tr>",
                            "<tr><td>Southwest</td><td>24184610.00</td></tr>",
                            "<tr><td>Canada</td><td>16355770.00</td></tr>",
                            "<tr><td>Northwest</td><td>16084943.00</td></tr>",
                            "<tr><td>Australia</td><td>10655336.00</td></tr>",
                            "<tr><td>Central</td><td>7909009.00</td></tr>",
                            "<tr><td>Southeast</td><td>7879655.00</td></tr>",
                            "<tr><td>United Kingdom</td><td>7670721.00</td></tr>",
                            "<tr><td>France</td><td>7251556.00</td></tr>",
                            "<tr><td>Northeast</td><td>6939374.00</td></tr>",
                            "<tr><td>Germany</td><td>4915408.00</td></tr>",
                            "</table>"
                        ]
                    }
                }
            ],
            "execution_count": 2
        },
        {
            "cell_type": "code",
            "source": [
                "-- Part B\n",
                "\n",
                "SELECT\n",
                "    a.Name AS TerritoryName,\n",
                "    DATEPART(mm, b.OrderDate) AS OrderMonth,\n",
                "    DATEPART(yy, b.OrderDate) AS OrderYear,\n",
                "    ROUND(SUM(b.SubTotal), 0) AS TotalSalesRevenue\n",
                "FROM Sales.SalesOrderHeader b\n",
                "INNER JOIN Sales.SalesTerritory a \n",
                "    ON b.TerritoryID = a.TerritoryID\n",
                "WHERE DATEPART(yy, b.OrderDate) = '2013'\n",
                "GROUP BY \n",
                "    a.Name,\n",
                "     DATEPART(mm, b.OrderDate),\n",
                "     DATEPART(yy, b.OrderDate)\n",
                "ORDER BY a.Name, OrderMonth"
            ],
            "metadata": {
                "azdata_cell_guid": "13c8997d-200c-452e-9f46-ca000cbdaa15",
                "language": "sql"
            },
            "outputs": [
                {
                    "output_type": "display_data",
                    "data": {
                        "text/html": "(120 rows affected)"
                    },
                    "metadata": {}
                },
                {
                    "output_type": "display_data",
                    "data": {
                        "text/html": "Total execution time: 00:00:00.070"
                    },
                    "metadata": {}
                },
                {
                    "output_type": "execute_result",
                    "metadata": {},
                    "execution_count": 3,
                    "data": {
                        "application/vnd.dataresource+json": {
                            "schema": {
                                "fields": [
                                    {
                                        "name": "TerritoryName"
                                    },
                                    {
                                        "name": "OrderMonth"
                                    },
                                    {
                                        "name": "OrderYear"
                                    },
                                    {
                                        "name": "TotalSalesRevenue"
                                    }
                                ]
                            },
                            "data": [
                                {
                                    "TerritoryName": "Australia",
                                    "OrderMonth": "1",
                                    "OrderYear": "2013",
                                    "TotalSalesRevenue": "222514.00"
                                },
                                {
                                    "TerritoryName": "Australia",
                                    "OrderMonth": "2",
                                    "OrderYear": "2013",
                                    "TotalSalesRevenue": "177688.00"
                                },
                                {
                                    "TerritoryName": "Australia",
                                    "OrderMonth": "3",
                                    "OrderYear": "2013",
                                    "TotalSalesRevenue": "215688.00"
                                },
                                {
                                    "TerritoryName": "Australia",
                                    "OrderMonth": "4",
                                    "OrderYear": "2013",
                                    "TotalSalesRevenue": "205166.00"
                                },
                                {
                                    "TerritoryName": "Australia",
                                    "OrderMonth": "5",
                                    "OrderYear": "2013",
                                    "TotalSalesRevenue": "252419.00"
                                },
                                {
                                    "TerritoryName": "Australia",
                                    "OrderMonth": "6",
                                    "OrderYear": "2013",
                                    "TotalSalesRevenue": "380029.00"
                                },
                                {
                                    "TerritoryName": "Australia",
                                    "OrderMonth": "7",
                                    "OrderYear": "2013",
                                    "TotalSalesRevenue": "456778.00"
                                },
                                {
                                    "TerritoryName": "Australia",
                                    "OrderMonth": "8",
                                    "OrderYear": "2013",
                                    "TotalSalesRevenue": "394786.00"
                                },
                                {
                                    "TerritoryName": "Australia",
                                    "OrderMonth": "9",
                                    "OrderYear": "2013",
                                    "TotalSalesRevenue": "457110.00"
                                },
                                {
                                    "TerritoryName": "Australia",
                                    "OrderMonth": "10",
                                    "OrderYear": "2013",
                                    "TotalSalesRevenue": "572304.00"
                                },
                                {
                                    "TerritoryName": "Australia",
                                    "OrderMonth": "11",
                                    "OrderYear": "2013",
                                    "TotalSalesRevenue": "427533.00"
                                },
                                {
                                    "TerritoryName": "Australia",
                                    "OrderMonth": "12",
                                    "OrderYear": "2013",
                                    "TotalSalesRevenue": "468650.00"
                                },
                                {
                                    "TerritoryName": "Canada",
                                    "OrderMonth": "1",
                                    "OrderYear": "2013",
                                    "TotalSalesRevenue": "417125.00"
                                },
                                {
                                    "TerritoryName": "Canada",
                                    "OrderMonth": "2",
                                    "OrderYear": "2013",
                                    "TotalSalesRevenue": "461556.00"
                                },
                                {
                                    "TerritoryName": "Canada",
                                    "OrderMonth": "3",
                                    "OrderYear": "2013",
                                    "TotalSalesRevenue": "485927.00"
                                },
                                {
                                    "TerritoryName": "Canada",
                                    "OrderMonth": "4",
                                    "OrderYear": "2013",
                                    "TotalSalesRevenue": "467353.00"
                                },
                                {
                                    "TerritoryName": "Canada",
                                    "OrderMonth": "5",
                                    "OrderYear": "2013",
                                    "TotalSalesRevenue": "510801.00"
                                },
                                {
                                    "TerritoryName": "Canada",
                                    "OrderMonth": "6",
                                    "OrderYear": "2013",
                                    "TotalSalesRevenue": "607975.00"
                                },
                                {
                                    "TerritoryName": "Canada",
                                    "OrderMonth": "7",
                                    "OrderYear": "2013",
                                    "TotalSalesRevenue": "733453.00"
                                },
                                {
                                    "TerritoryName": "Canada",
                                    "OrderMonth": "8",
                                    "OrderYear": "2013",
                                    "TotalSalesRevenue": "467319.00"
                                },
                                {
                                    "TerritoryName": "Canada",
                                    "OrderMonth": "9",
                                    "OrderYear": "2013",
                                    "TotalSalesRevenue": "480936.00"
                                },
                                {
                                    "TerritoryName": "Canada",
                                    "OrderMonth": "10",
                                    "OrderYear": "2013",
                                    "TotalSalesRevenue": "804615.00"
                                },
                                {
                                    "TerritoryName": "Canada",
                                    "OrderMonth": "11",
                                    "OrderYear": "2013",
                                    "TotalSalesRevenue": "356269.00"
                                },
                                {
                                    "TerritoryName": "Canada",
                                    "OrderMonth": "12",
                                    "OrderYear": "2013",
                                    "TotalSalesRevenue": "436189.00"
                                },
                                {
                                    "TerritoryName": "Central",
                                    "OrderMonth": "1",
                                    "OrderYear": "2013",
                                    "TotalSalesRevenue": "179655.00"
                                },
                                {
                                    "TerritoryName": "Central",
                                    "OrderMonth": "2",
                                    "OrderYear": "2013",
                                    "TotalSalesRevenue": "193947.00"
                                },
                                {
                                    "TerritoryName": "Central",
                                    "OrderMonth": "3",
                                    "OrderYear": "2013",
                                    "TotalSalesRevenue": "283992.00"
                                },
                                {
                                    "TerritoryName": "Central",
                                    "OrderMonth": "4",
                                    "OrderYear": "2013",
                                    "TotalSalesRevenue": "220322.00"
                                },
                                {
                                    "TerritoryName": "Central",
                                    "OrderMonth": "5",
                                    "OrderYear": "2013",
                                    "TotalSalesRevenue": "216804.00"
                                },
                                {
                                    "TerritoryName": "Central",
                                    "OrderMonth": "6",
                                    "OrderYear": "2013",
                                    "TotalSalesRevenue": "378578.00"
                                },
                                {
                                    "TerritoryName": "Central",
                                    "OrderMonth": "7",
                                    "OrderYear": "2013",
                                    "TotalSalesRevenue": "348164.00"
                                },
                                {
                                    "TerritoryName": "Central",
                                    "OrderMonth": "8",
                                    "OrderYear": "2013",
                                    "TotalSalesRevenue": "162558.00"
                                },
                                {
                                    "TerritoryName": "Central",
                                    "OrderMonth": "9",
                                    "OrderYear": "2013",
                                    "TotalSalesRevenue": "324853.00"
                                },
                                {
                                    "TerritoryName": "Central",
                                    "OrderMonth": "10",
                                    "OrderYear": "2013",
                                    "TotalSalesRevenue": "317443.00"
                                },
                                {
                                    "TerritoryName": "Central",
                                    "OrderMonth": "11",
                                    "OrderYear": "2013",
                                    "TotalSalesRevenue": "113958.00"
                                },
                                {
                                    "TerritoryName": "Central",
                                    "OrderMonth": "12",
                                    "OrderYear": "2013",
                                    "TotalSalesRevenue": "253954.00"
                                },
                                {
                                    "TerritoryName": "France",
                                    "OrderMonth": "1",
                                    "OrderYear": "2013",
                                    "TotalSalesRevenue": "108416.00"
                                },
                                {
                                    "TerritoryName": "France",
                                    "OrderMonth": "2",
                                    "OrderYear": "2013",
                                    "TotalSalesRevenue": "123079.00"
                                },
                                {
                                    "TerritoryName": "France",
                                    "OrderMonth": "3",
                                    "OrderYear": "2013",
                                    "TotalSalesRevenue": "246492.00"
                                },
                                {
                                    "TerritoryName": "France",
                                    "OrderMonth": "4",
                                    "OrderYear": "2013",
                                    "TotalSalesRevenue": "138184.00"
                                },
                                {
                                    "TerritoryName": "France",
                                    "OrderMonth": "5",
                                    "OrderYear": "2013",
                                    "TotalSalesRevenue": "151473.00"
                                },
                                {
                                    "TerritoryName": "France",
                                    "OrderMonth": "6",
                                    "OrderYear": "2013",
                                    "TotalSalesRevenue": "800815.00"
                                },
                                {
                                    "TerritoryName": "France",
                                    "OrderMonth": "7",
                                    "OrderYear": "2013",
                                    "TotalSalesRevenue": "281400.00"
                                },
                                {
                                    "TerritoryName": "France",
                                    "OrderMonth": "8",
                                    "OrderYear": "2013",
                                    "TotalSalesRevenue": "163919.00"
                                },
                                {
                                    "TerritoryName": "France",
                                    "OrderMonth": "9",
                                    "OrderYear": "2013",
                                    "TotalSalesRevenue": "713907.00"
                                },
                                {
                                    "TerritoryName": "France",
                                    "OrderMonth": "10",
                                    "OrderYear": "2013",
                                    "TotalSalesRevenue": "270755.00"
                                },
                                {
                                    "TerritoryName": "France",
                                    "OrderMonth": "11",
                                    "OrderYear": "2013",
                                    "TotalSalesRevenue": "224719.00"
                                },
                                {
                                    "TerritoryName": "France",
                                    "OrderMonth": "12",
                                    "OrderYear": "2013",
                                    "TotalSalesRevenue": "583347.00"
                                },
                                {
                                    "TerritoryName": "Germany",
                                    "OrderMonth": "1",
                                    "OrderYear": "2013",
                                    "TotalSalesRevenue": "69561.00"
                                },
                                {
                                    "TerritoryName": "Germany",
                                    "OrderMonth": "2",
                                    "OrderYear": "2013",
                                    "TotalSalesRevenue": "56643.00"
                                },
                                {
                                    "TerritoryName": "Germany",
                                    "OrderMonth": "3",
                                    "OrderYear": "2013",
                                    "TotalSalesRevenue": "66450.00"
                                },
                                {
                                    "TerritoryName": "Germany",
                                    "OrderMonth": "4",
                                    "OrderYear": "2013",
                                    "TotalSalesRevenue": "56416.00"
                                },
                                {
                                    "TerritoryName": "Germany",
                                    "OrderMonth": "5",
                                    "OrderYear": "2013",
                                    "TotalSalesRevenue": "252220.00"
                                },
                                {
                                    "TerritoryName": "Germany",
                                    "OrderMonth": "6",
                                    "OrderYear": "2013",
                                    "TotalSalesRevenue": "362450.00"
                                },
                                {
                                    "TerritoryName": "Germany",
                                    "OrderMonth": "7",
                                    "OrderYear": "2013",
                                    "TotalSalesRevenue": "225865.00"
                                },
                                {
                                    "TerritoryName": "Germany",
                                    "OrderMonth": "8",
                                    "OrderYear": "2013",
                                    "TotalSalesRevenue": "308561.00"
                                },
                                {
                                    "TerritoryName": "Germany",
                                    "OrderMonth": "9",
                                    "OrderYear": "2013",
                                    "TotalSalesRevenue": "294496.00"
                                },
                                {
                                    "TerritoryName": "Germany",
                                    "OrderMonth": "10",
                                    "OrderYear": "2013",
                                    "TotalSalesRevenue": "276967.00"
                                },
                                {
                                    "TerritoryName": "Germany",
                                    "OrderMonth": "11",
                                    "OrderYear": "2013",
                                    "TotalSalesRevenue": "287291.00"
                                },
                                {
                                    "TerritoryName": "Germany",
                                    "OrderMonth": "12",
                                    "OrderYear": "2013",
                                    "TotalSalesRevenue": "308301.00"
                                },
                                {
                                    "TerritoryName": "Northeast",
                                    "OrderMonth": "1",
                                    "OrderYear": "2013",
                                    "TotalSalesRevenue": "152396.00"
                                },
                                {
                                    "TerritoryName": "Northeast",
                                    "OrderMonth": "2",
                                    "OrderYear": "2013",
                                    "TotalSalesRevenue": "335169.00"
                                },
                                {
                                    "TerritoryName": "Northeast",
                                    "OrderMonth": "3",
                                    "OrderYear": "2013",
                                    "TotalSalesRevenue": "341011.00"
                                },
                                {
                                    "TerritoryName": "Northeast",
                                    "OrderMonth": "4",
                                    "OrderYear": "2013",
                                    "TotalSalesRevenue": "178885.00"
                                },
                                {
                                    "TerritoryName": "Northeast",
                                    "OrderMonth": "5",
                                    "OrderYear": "2013",
                                    "TotalSalesRevenue": "190500.00"
                                },
                                {
                                    "TerritoryName": "Northeast",
                                    "OrderMonth": "6",
                                    "OrderYear": "2013",
                                    "TotalSalesRevenue": "286993.00"
                                },
                                {
                                    "TerritoryName": "Northeast",
                                    "OrderMonth": "7",
                                    "OrderYear": "2013",
                                    "TotalSalesRevenue": "273329.00"
                                },
                                {
                                    "TerritoryName": "Northeast",
                                    "OrderMonth": "8",
                                    "OrderYear": "2013",
                                    "TotalSalesRevenue": "189074.00"
                                },
                                {
                                    "TerritoryName": "Northeast",
                                    "OrderMonth": "9",
                                    "OrderYear": "2013",
                                    "TotalSalesRevenue": "181179.00"
                                },
                                {
                                    "TerritoryName": "Northeast",
                                    "OrderMonth": "10",
                                    "OrderYear": "2013",
                                    "TotalSalesRevenue": "221905.00"
                                },
                                {
                                    "TerritoryName": "Northeast",
                                    "OrderMonth": "11",
                                    "OrderYear": "2013",
                                    "TotalSalesRevenue": "140163.00"
                                },
                                {
                                    "TerritoryName": "Northeast",
                                    "OrderMonth": "12",
                                    "OrderYear": "2013",
                                    "TotalSalesRevenue": "140656.00"
                                },
                                {
                                    "TerritoryName": "Northwest",
                                    "OrderMonth": "1",
                                    "OrderYear": "2013",
                                    "TotalSalesRevenue": "118274.00"
                                },
                                {
                                    "TerritoryName": "Northwest",
                                    "OrderMonth": "2",
                                    "OrderYear": "2013",
                                    "TotalSalesRevenue": "259074.00"
                                },
                                {
                                    "TerritoryName": "Northwest",
                                    "OrderMonth": "3",
                                    "OrderYear": "2013",
                                    "TotalSalesRevenue": "546006.00"
                                },
                                {
                                    "TerritoryName": "Northwest",
                                    "OrderMonth": "4",
                                    "OrderYear": "2013",
                                    "TotalSalesRevenue": "148982.00"
                                },
                                {
                                    "TerritoryName": "Northwest",
                                    "OrderMonth": "5",
                                    "OrderYear": "2013",
                                    "TotalSalesRevenue": "431414.00"
                                },
                                {
                                    "TerritoryName": "Northwest",
                                    "OrderMonth": "6",
                                    "OrderYear": "2013",
                                    "TotalSalesRevenue": "820494.00"
                                },
                                {
                                    "TerritoryName": "Northwest",
                                    "OrderMonth": "7",
                                    "OrderYear": "2013",
                                    "TotalSalesRevenue": "702756.00"
                                },
                                {
                                    "TerritoryName": "Northwest",
                                    "OrderMonth": "8",
                                    "OrderYear": "2013",
                                    "TotalSalesRevenue": "418150.00"
                                },
                                {
                                    "TerritoryName": "Northwest",
                                    "OrderMonth": "9",
                                    "OrderYear": "2013",
                                    "TotalSalesRevenue": "711921.00"
                                },
                                {
                                    "TerritoryName": "Northwest",
                                    "OrderMonth": "10",
                                    "OrderYear": "2013",
                                    "TotalSalesRevenue": "676266.00"
                                },
                                {
                                    "TerritoryName": "Northwest",
                                    "OrderMonth": "11",
                                    "OrderYear": "2013",
                                    "TotalSalesRevenue": "544111.00"
                                },
                                {
                                    "TerritoryName": "Northwest",
                                    "OrderMonth": "12",
                                    "OrderYear": "2013",
                                    "TotalSalesRevenue": "637728.00"
                                },
                                {
                                    "TerritoryName": "Southeast",
                                    "OrderMonth": "1",
                                    "OrderYear": "2013",
                                    "TotalSalesRevenue": "139830.00"
                                },
                                {
                                    "TerritoryName": "Southeast",
                                    "OrderMonth": "2",
                                    "OrderYear": "2013",
                                    "TotalSalesRevenue": "174644.00"
                                },
                                {
                                    "TerritoryName": "Southeast",
                                    "OrderMonth": "3",
                                    "OrderYear": "2013",
                                    "TotalSalesRevenue": "213206.00"
                                },
                                {
                                    "TerritoryName": "Southeast",
                                    "OrderMonth": "4",
                                    "OrderYear": "2013",
                                    "TotalSalesRevenue": "209090.00"
                                },
                                {
                                    "TerritoryName": "Southeast",
                                    "OrderMonth": "5",
                                    "OrderYear": "2013",
                                    "TotalSalesRevenue": "177763.00"
                                },
                                {
                                    "TerritoryName": "Southeast",
                                    "OrderMonth": "6",
                                    "OrderYear": "2013",
                                    "TotalSalesRevenue": "274597.00"
                                },
                                {
                                    "TerritoryName": "Southeast",
                                    "OrderMonth": "7",
                                    "OrderYear": "2013",
                                    "TotalSalesRevenue": "289525.00"
                                },
                                {
                                    "TerritoryName": "Southeast",
                                    "OrderMonth": "8",
                                    "OrderYear": "2013",
                                    "TotalSalesRevenue": "161507.00"
                                },
                                {
                                    "TerritoryName": "Southeast",
                                    "OrderMonth": "9",
                                    "OrderYear": "2013",
                                    "TotalSalesRevenue": "233699.00"
                                },
                                {
                                    "TerritoryName": "Southeast",
                                    "OrderMonth": "10",
                                    "OrderYear": "2013",
                                    "TotalSalesRevenue": "219936.00"
                                },
                                {
                                    "TerritoryName": "Southeast",
                                    "OrderMonth": "11",
                                    "OrderYear": "2013",
                                    "TotalSalesRevenue": "114993.00"
                                },
                                {
                                    "TerritoryName": "Southeast",
                                    "OrderMonth": "12",
                                    "OrderYear": "2013",
                                    "TotalSalesRevenue": "191157.00"
                                },
                                {
                                    "TerritoryName": "Southwest",
                                    "OrderMonth": "1",
                                    "OrderYear": "2013",
                                    "TotalSalesRevenue": "494888.00"
                                },
                                {
                                    "TerritoryName": "Southwest",
                                    "OrderMonth": "2",
                                    "OrderYear": "2013",
                                    "TotalSalesRevenue": "431230.00"
                                },
                                {
                                    "TerritoryName": "Southwest",
                                    "OrderMonth": "3",
                                    "OrderYear": "2013",
                                    "TotalSalesRevenue": "846761.00"
                                },
                                {
                                    "TerritoryName": "Southwest",
                                    "OrderMonth": "4",
                                    "OrderYear": "2013",
                                    "TotalSalesRevenue": "710288.00"
                                },
                                {
                                    "TerritoryName": "Southwest",
                                    "OrderMonth": "5",
                                    "OrderYear": "2013",
                                    "TotalSalesRevenue": "848815.00"
                                },
                                {
                                    "TerritoryName": "Southwest",
                                    "OrderMonth": "6",
                                    "OrderYear": "2013",
                                    "TotalSalesRevenue": "827496.00"
                                },
                                {
                                    "TerritoryName": "Southwest",
                                    "OrderMonth": "7",
                                    "OrderYear": "2013",
                                    "TotalSalesRevenue": "967045.00"
                                },
                                {
                                    "TerritoryName": "Southwest",
                                    "OrderMonth": "8",
                                    "OrderYear": "2013",
                                    "TotalSalesRevenue": "814277.00"
                                },
                                {
                                    "TerritoryName": "Southwest",
                                    "OrderMonth": "9",
                                    "OrderYear": "2013",
                                    "TotalSalesRevenue": "787346.00"
                                },
                                {
                                    "TerritoryName": "Southwest",
                                    "OrderMonth": "10",
                                    "OrderYear": "2013",
                                    "TotalSalesRevenue": "833388.00"
                                },
                                {
                                    "TerritoryName": "Southwest",
                                    "OrderMonth": "11",
                                    "OrderYear": "2013",
                                    "TotalSalesRevenue": "805845.00"
                                },
                                {
                                    "TerritoryName": "Southwest",
                                    "OrderMonth": "12",
                                    "OrderYear": "2013",
                                    "TotalSalesRevenue": "749160.00"
                                },
                                {
                                    "TerritoryName": "United Kingdom",
                                    "OrderMonth": "1",
                                    "OrderYear": "2013",
                                    "TotalSalesRevenue": "185214.00"
                                },
                                {
                                    "TerritoryName": "United Kingdom",
                                    "OrderMonth": "2",
                                    "OrderYear": "2013",
                                    "TotalSalesRevenue": "103892.00"
                                },
                                {
                                    "TerritoryName": "United Kingdom",
                                    "OrderMonth": "3",
                                    "OrderYear": "2013",
                                    "TotalSalesRevenue": "166536.00"
                                },
                                {
                                    "TerritoryName": "United Kingdom",
                                    "OrderMonth": "4",
                                    "OrderYear": "2013",
                                    "TotalSalesRevenue": "197580.00"
                                },
                                {
                                    "TerritoryName": "United Kingdom",
                                    "OrderMonth": "5",
                                    "OrderYear": "2013",
                                    "TotalSalesRevenue": "213417.00"
                                },
                                {
                                    "TerritoryName": "United Kingdom",
                                    "OrderMonth": "6",
                                    "OrderYear": "2013",
                                    "TotalSalesRevenue": "341642.00"
                                },
                                {
                                    "TerritoryName": "United Kingdom",
                                    "OrderMonth": "7",
                                    "OrderYear": "2013",
                                    "TotalSalesRevenue": "618040.00"
                                },
                                {
                                    "TerritoryName": "United Kingdom",
                                    "OrderMonth": "8",
                                    "OrderYear": "2013",
                                    "TotalSalesRevenue": "253814.00"
                                },
                                {
                                    "TerritoryName": "United Kingdom",
                                    "OrderMonth": "9",
                                    "OrderYear": "2013",
                                    "TotalSalesRevenue": "347462.00"
                                },
                                {
                                    "TerritoryName": "United Kingdom",
                                    "OrderMonth": "10",
                                    "OrderYear": "2013",
                                    "TotalSalesRevenue": "602234.00"
                                },
                                {
                                    "TerritoryName": "United Kingdom",
                                    "OrderMonth": "11",
                                    "OrderYear": "2013",
                                    "TotalSalesRevenue": "297249.00"
                                },
                                {
                                    "TerritoryName": "United Kingdom",
                                    "OrderMonth": "12",
                                    "OrderYear": "2013",
                                    "TotalSalesRevenue": "306343.00"
                                }
                            ]
                        },
                        "text/html": [
                            "<table>",
                            "<tr><th>TerritoryName</th><th>OrderMonth</th><th>OrderYear</th><th>TotalSalesRevenue</th></tr>",
                            "<tr><td>Australia</td><td>1</td><td>2013</td><td>222514.00</td></tr>",
                            "<tr><td>Australia</td><td>2</td><td>2013</td><td>177688.00</td></tr>",
                            "<tr><td>Australia</td><td>3</td><td>2013</td><td>215688.00</td></tr>",
                            "<tr><td>Australia</td><td>4</td><td>2013</td><td>205166.00</td></tr>",
                            "<tr><td>Australia</td><td>5</td><td>2013</td><td>252419.00</td></tr>",
                            "<tr><td>Australia</td><td>6</td><td>2013</td><td>380029.00</td></tr>",
                            "<tr><td>Australia</td><td>7</td><td>2013</td><td>456778.00</td></tr>",
                            "<tr><td>Australia</td><td>8</td><td>2013</td><td>394786.00</td></tr>",
                            "<tr><td>Australia</td><td>9</td><td>2013</td><td>457110.00</td></tr>",
                            "<tr><td>Australia</td><td>10</td><td>2013</td><td>572304.00</td></tr>",
                            "<tr><td>Australia</td><td>11</td><td>2013</td><td>427533.00</td></tr>",
                            "<tr><td>Australia</td><td>12</td><td>2013</td><td>468650.00</td></tr>",
                            "<tr><td>Canada</td><td>1</td><td>2013</td><td>417125.00</td></tr>",
                            "<tr><td>Canada</td><td>2</td><td>2013</td><td>461556.00</td></tr>",
                            "<tr><td>Canada</td><td>3</td><td>2013</td><td>485927.00</td></tr>",
                            "<tr><td>Canada</td><td>4</td><td>2013</td><td>467353.00</td></tr>",
                            "<tr><td>Canada</td><td>5</td><td>2013</td><td>510801.00</td></tr>",
                            "<tr><td>Canada</td><td>6</td><td>2013</td><td>607975.00</td></tr>",
                            "<tr><td>Canada</td><td>7</td><td>2013</td><td>733453.00</td></tr>",
                            "<tr><td>Canada</td><td>8</td><td>2013</td><td>467319.00</td></tr>",
                            "<tr><td>Canada</td><td>9</td><td>2013</td><td>480936.00</td></tr>",
                            "<tr><td>Canada</td><td>10</td><td>2013</td><td>804615.00</td></tr>",
                            "<tr><td>Canada</td><td>11</td><td>2013</td><td>356269.00</td></tr>",
                            "<tr><td>Canada</td><td>12</td><td>2013</td><td>436189.00</td></tr>",
                            "<tr><td>Central</td><td>1</td><td>2013</td><td>179655.00</td></tr>",
                            "<tr><td>Central</td><td>2</td><td>2013</td><td>193947.00</td></tr>",
                            "<tr><td>Central</td><td>3</td><td>2013</td><td>283992.00</td></tr>",
                            "<tr><td>Central</td><td>4</td><td>2013</td><td>220322.00</td></tr>",
                            "<tr><td>Central</td><td>5</td><td>2013</td><td>216804.00</td></tr>",
                            "<tr><td>Central</td><td>6</td><td>2013</td><td>378578.00</td></tr>",
                            "<tr><td>Central</td><td>7</td><td>2013</td><td>348164.00</td></tr>",
                            "<tr><td>Central</td><td>8</td><td>2013</td><td>162558.00</td></tr>",
                            "<tr><td>Central</td><td>9</td><td>2013</td><td>324853.00</td></tr>",
                            "<tr><td>Central</td><td>10</td><td>2013</td><td>317443.00</td></tr>",
                            "<tr><td>Central</td><td>11</td><td>2013</td><td>113958.00</td></tr>",
                            "<tr><td>Central</td><td>12</td><td>2013</td><td>253954.00</td></tr>",
                            "<tr><td>France</td><td>1</td><td>2013</td><td>108416.00</td></tr>",
                            "<tr><td>France</td><td>2</td><td>2013</td><td>123079.00</td></tr>",
                            "<tr><td>France</td><td>3</td><td>2013</td><td>246492.00</td></tr>",
                            "<tr><td>France</td><td>4</td><td>2013</td><td>138184.00</td></tr>",
                            "<tr><td>France</td><td>5</td><td>2013</td><td>151473.00</td></tr>",
                            "<tr><td>France</td><td>6</td><td>2013</td><td>800815.00</td></tr>",
                            "<tr><td>France</td><td>7</td><td>2013</td><td>281400.00</td></tr>",
                            "<tr><td>France</td><td>8</td><td>2013</td><td>163919.00</td></tr>",
                            "<tr><td>France</td><td>9</td><td>2013</td><td>713907.00</td></tr>",
                            "<tr><td>France</td><td>10</td><td>2013</td><td>270755.00</td></tr>",
                            "<tr><td>France</td><td>11</td><td>2013</td><td>224719.00</td></tr>",
                            "<tr><td>France</td><td>12</td><td>2013</td><td>583347.00</td></tr>",
                            "<tr><td>Germany</td><td>1</td><td>2013</td><td>69561.00</td></tr>",
                            "<tr><td>Germany</td><td>2</td><td>2013</td><td>56643.00</td></tr>",
                            "<tr><td>Germany</td><td>3</td><td>2013</td><td>66450.00</td></tr>",
                            "<tr><td>Germany</td><td>4</td><td>2013</td><td>56416.00</td></tr>",
                            "<tr><td>Germany</td><td>5</td><td>2013</td><td>252220.00</td></tr>",
                            "<tr><td>Germany</td><td>6</td><td>2013</td><td>362450.00</td></tr>",
                            "<tr><td>Germany</td><td>7</td><td>2013</td><td>225865.00</td></tr>",
                            "<tr><td>Germany</td><td>8</td><td>2013</td><td>308561.00</td></tr>",
                            "<tr><td>Germany</td><td>9</td><td>2013</td><td>294496.00</td></tr>",
                            "<tr><td>Germany</td><td>10</td><td>2013</td><td>276967.00</td></tr>",
                            "<tr><td>Germany</td><td>11</td><td>2013</td><td>287291.00</td></tr>",
                            "<tr><td>Germany</td><td>12</td><td>2013</td><td>308301.00</td></tr>",
                            "<tr><td>Northeast</td><td>1</td><td>2013</td><td>152396.00</td></tr>",
                            "<tr><td>Northeast</td><td>2</td><td>2013</td><td>335169.00</td></tr>",
                            "<tr><td>Northeast</td><td>3</td><td>2013</td><td>341011.00</td></tr>",
                            "<tr><td>Northeast</td><td>4</td><td>2013</td><td>178885.00</td></tr>",
                            "<tr><td>Northeast</td><td>5</td><td>2013</td><td>190500.00</td></tr>",
                            "<tr><td>Northeast</td><td>6</td><td>2013</td><td>286993.00</td></tr>",
                            "<tr><td>Northeast</td><td>7</td><td>2013</td><td>273329.00</td></tr>",
                            "<tr><td>Northeast</td><td>8</td><td>2013</td><td>189074.00</td></tr>",
                            "<tr><td>Northeast</td><td>9</td><td>2013</td><td>181179.00</td></tr>",
                            "<tr><td>Northeast</td><td>10</td><td>2013</td><td>221905.00</td></tr>",
                            "<tr><td>Northeast</td><td>11</td><td>2013</td><td>140163.00</td></tr>",
                            "<tr><td>Northeast</td><td>12</td><td>2013</td><td>140656.00</td></tr>",
                            "<tr><td>Northwest</td><td>1</td><td>2013</td><td>118274.00</td></tr>",
                            "<tr><td>Northwest</td><td>2</td><td>2013</td><td>259074.00</td></tr>",
                            "<tr><td>Northwest</td><td>3</td><td>2013</td><td>546006.00</td></tr>",
                            "<tr><td>Northwest</td><td>4</td><td>2013</td><td>148982.00</td></tr>",
                            "<tr><td>Northwest</td><td>5</td><td>2013</td><td>431414.00</td></tr>",
                            "<tr><td>Northwest</td><td>6</td><td>2013</td><td>820494.00</td></tr>",
                            "<tr><td>Northwest</td><td>7</td><td>2013</td><td>702756.00</td></tr>",
                            "<tr><td>Northwest</td><td>8</td><td>2013</td><td>418150.00</td></tr>",
                            "<tr><td>Northwest</td><td>9</td><td>2013</td><td>711921.00</td></tr>",
                            "<tr><td>Northwest</td><td>10</td><td>2013</td><td>676266.00</td></tr>",
                            "<tr><td>Northwest</td><td>11</td><td>2013</td><td>544111.00</td></tr>",
                            "<tr><td>Northwest</td><td>12</td><td>2013</td><td>637728.00</td></tr>",
                            "<tr><td>Southeast</td><td>1</td><td>2013</td><td>139830.00</td></tr>",
                            "<tr><td>Southeast</td><td>2</td><td>2013</td><td>174644.00</td></tr>",
                            "<tr><td>Southeast</td><td>3</td><td>2013</td><td>213206.00</td></tr>",
                            "<tr><td>Southeast</td><td>4</td><td>2013</td><td>209090.00</td></tr>",
                            "<tr><td>Southeast</td><td>5</td><td>2013</td><td>177763.00</td></tr>",
                            "<tr><td>Southeast</td><td>6</td><td>2013</td><td>274597.00</td></tr>",
                            "<tr><td>Southeast</td><td>7</td><td>2013</td><td>289525.00</td></tr>",
                            "<tr><td>Southeast</td><td>8</td><td>2013</td><td>161507.00</td></tr>",
                            "<tr><td>Southeast</td><td>9</td><td>2013</td><td>233699.00</td></tr>",
                            "<tr><td>Southeast</td><td>10</td><td>2013</td><td>219936.00</td></tr>",
                            "<tr><td>Southeast</td><td>11</td><td>2013</td><td>114993.00</td></tr>",
                            "<tr><td>Southeast</td><td>12</td><td>2013</td><td>191157.00</td></tr>",
                            "<tr><td>Southwest</td><td>1</td><td>2013</td><td>494888.00</td></tr>",
                            "<tr><td>Southwest</td><td>2</td><td>2013</td><td>431230.00</td></tr>",
                            "<tr><td>Southwest</td><td>3</td><td>2013</td><td>846761.00</td></tr>",
                            "<tr><td>Southwest</td><td>4</td><td>2013</td><td>710288.00</td></tr>",
                            "<tr><td>Southwest</td><td>5</td><td>2013</td><td>848815.00</td></tr>",
                            "<tr><td>Southwest</td><td>6</td><td>2013</td><td>827496.00</td></tr>",
                            "<tr><td>Southwest</td><td>7</td><td>2013</td><td>967045.00</td></tr>",
                            "<tr><td>Southwest</td><td>8</td><td>2013</td><td>814277.00</td></tr>",
                            "<tr><td>Southwest</td><td>9</td><td>2013</td><td>787346.00</td></tr>",
                            "<tr><td>Southwest</td><td>10</td><td>2013</td><td>833388.00</td></tr>",
                            "<tr><td>Southwest</td><td>11</td><td>2013</td><td>805845.00</td></tr>",
                            "<tr><td>Southwest</td><td>12</td><td>2013</td><td>749160.00</td></tr>",
                            "<tr><td>United Kingdom</td><td>1</td><td>2013</td><td>185214.00</td></tr>",
                            "<tr><td>United Kingdom</td><td>2</td><td>2013</td><td>103892.00</td></tr>",
                            "<tr><td>United Kingdom</td><td>3</td><td>2013</td><td>166536.00</td></tr>",
                            "<tr><td>United Kingdom</td><td>4</td><td>2013</td><td>197580.00</td></tr>",
                            "<tr><td>United Kingdom</td><td>5</td><td>2013</td><td>213417.00</td></tr>",
                            "<tr><td>United Kingdom</td><td>6</td><td>2013</td><td>341642.00</td></tr>",
                            "<tr><td>United Kingdom</td><td>7</td><td>2013</td><td>618040.00</td></tr>",
                            "<tr><td>United Kingdom</td><td>8</td><td>2013</td><td>253814.00</td></tr>",
                            "<tr><td>United Kingdom</td><td>9</td><td>2013</td><td>347462.00</td></tr>",
                            "<tr><td>United Kingdom</td><td>10</td><td>2013</td><td>602234.00</td></tr>",
                            "<tr><td>United Kingdom</td><td>11</td><td>2013</td><td>297249.00</td></tr>",
                            "<tr><td>United Kingdom</td><td>12</td><td>2013</td><td>306343.00</td></tr>",
                            "</table>"
                        ]
                    }
                }
            ],
            "execution_count": 3
        },
        {
            "cell_type": "code",
            "source": [
                "-- Part C\n",
                "\n",
                "SELECT\n",
                "    DISTINCT a.Name AS AwardWinners\n",
                "FROM Sales.SalesOrderHeader b\n",
                "JOIN Sales.SalesTerritory a \n",
                "    ON b.TerritoryID = a.TerritoryID\n",
                "WHERE DATEPART(yy, b.OrderDate) = '2013'\n",
                "GROUP BY \n",
                "    a.Name,\n",
                "     DATEPART(mm, b.OrderDate),\n",
                "     DATEPART(yy, b.OrderDate)\n",
                "HAVING ROUND(SUM(b.SubTotal), 0) > 750000\n",
                "ORDER BY a.Name"
            ],
            "metadata": {
                "azdata_cell_guid": "20004f90-9f4c-4ab2-a209-c4165ae72247",
                "language": "sql"
            },
            "outputs": [
                {
                    "output_type": "display_data",
                    "data": {
                        "text/html": "(4 rows affected)"
                    },
                    "metadata": {}
                },
                {
                    "output_type": "display_data",
                    "data": {
                        "text/html": "Total execution time: 00:00:00.064"
                    },
                    "metadata": {}
                },
                {
                    "output_type": "execute_result",
                    "metadata": {},
                    "execution_count": 4,
                    "data": {
                        "application/vnd.dataresource+json": {
                            "schema": {
                                "fields": [
                                    {
                                        "name": "AwardWinners"
                                    }
                                ]
                            },
                            "data": [
                                {
                                    "AwardWinners": "Canada"
                                },
                                {
                                    "AwardWinners": "France"
                                },
                                {
                                    "AwardWinners": "Northwest"
                                },
                                {
                                    "AwardWinners": "Southwest"
                                }
                            ]
                        },
                        "text/html": [
                            "<table>",
                            "<tr><th>AwardWinners</th></tr>",
                            "<tr><td>Canada</td></tr>",
                            "<tr><td>France</td></tr>",
                            "<tr><td>Northwest</td></tr>",
                            "<tr><td>Southwest</td></tr>",
                            "</table>"
                        ]
                    }
                }
            ],
            "execution_count": 4
        },
        {
            "cell_type": "code",
            "source": [
                "-- Part D\n",
                "\n",
                "SELECT DISTINCT a.Name AS Underperformers\n",
                "FROM Sales.SalesOrderHeader b\n",
                "INNER JOIN Sales.SalesTerritory a ON b.TerritoryID = a.TerritoryID\n",
                "WHERE DATEPART(yy, b.OrderDate) = '2013'\n",
                "\n",
                "EXCEPT\n",
                "\n",
                "SELECT DISTINCT a.Name\n",
                "FROM Sales.SalesOrderHeader b\n",
                "INNER JOIN Sales.SalesTerritory a \n",
                "    ON b.TerritoryID = a.TerritoryID\n",
                "WHERE DATEPART(yy, b.OrderDate) = '2013'\n",
                "GROUP BY \n",
                "    a.Name,\n",
                "     DATEPART(mm, b.OrderDate),\n",
                "     DATEPART(yy, b.OrderDate)\n",
                "HAVING ROUND(SUM(b.SubTotal), 0) > 750000\n",
                "ORDER BY a.Name"
            ],
            "metadata": {
                "azdata_cell_guid": "72d84536-974d-4b67-9732-28f29d830458",
                "language": "sql"
            },
            "outputs": [
                {
                    "output_type": "display_data",
                    "data": {
                        "text/html": "(6 rows affected)"
                    },
                    "metadata": {}
                },
                {
                    "output_type": "display_data",
                    "data": {
                        "text/html": "Total execution time: 00:00:00.066"
                    },
                    "metadata": {}
                },
                {
                    "output_type": "execute_result",
                    "metadata": {},
                    "execution_count": 5,
                    "data": {
                        "application/vnd.dataresource+json": {
                            "schema": {
                                "fields": [
                                    {
                                        "name": "Underperformers"
                                    }
                                ]
                            },
                            "data": [
                                {
                                    "Underperformers": "Australia"
                                },
                                {
                                    "Underperformers": "Central"
                                },
                                {
                                    "Underperformers": "Germany"
                                },
                                {
                                    "Underperformers": "Northeast"
                                },
                                {
                                    "Underperformers": "Southeast"
                                },
                                {
                                    "Underperformers": "United Kingdom"
                                }
                            ]
                        },
                        "text/html": [
                            "<table>",
                            "<tr><th>Underperformers</th></tr>",
                            "<tr><td>Australia</td></tr>",
                            "<tr><td>Central</td></tr>",
                            "<tr><td>Germany</td></tr>",
                            "<tr><td>Northeast</td></tr>",
                            "<tr><td>Southeast</td></tr>",
                            "<tr><td>United Kingdom</td></tr>",
                            "</table>"
                        ]
                    }
                }
            ],
            "execution_count": 5
        },
        {
            "cell_type": "markdown",
            "source": [
                "**PROBLEM 2**"
            ],
            "metadata": {
                "azdata_cell_guid": "65d4a70c-e884-4421-8a66-5048edb3fd07"
            },
            "attachments": {}
        },
        {
            "cell_type": "code",
            "source": [
                "-- PART A\n",
                "\n",
                "SELECT b.Name, SUM(a.OrderQty) AS NumSold\n",
                "FROM Sales.SalesOrderDetail a\n",
                "INNER JOIN Production.Product b ON\n",
                "a.ProductID = b.ProductID\n",
                "WHERE b.FinishedGoodsFlag = 1\n",
                "GROUP BY b.Name\n",
                "HAVING SUM(a.OrderQty) < 50\n",
                "ORDER BY NumSold\n",
                ""
            ],
            "metadata": {
                "azdata_cell_guid": "afb33d69-7ef2-426c-a76d-763e70942a10",
                "language": "sql"
            },
            "outputs": [
                {
                    "output_type": "display_data",
                    "data": {
                        "text/html": "(10 rows affected)"
                    },
                    "metadata": {}
                },
                {
                    "output_type": "display_data",
                    "data": {
                        "text/html": "Total execution time: 00:00:00.098"
                    },
                    "metadata": {}
                },
                {
                    "output_type": "execute_result",
                    "metadata": {},
                    "execution_count": 6,
                    "data": {
                        "application/vnd.dataresource+json": {
                            "schema": {
                                "fields": [
                                    {
                                        "name": "Name"
                                    },
                                    {
                                        "name": "NumSold"
                                    }
                                ]
                            },
                            "data": [
                                {
                                    "Name": "LL Touring Frame - Blue, 58",
                                    "NumSold": "4"
                                },
                                {
                                    "Name": "ML Mountain Frame-W - Silver, 38",
                                    "NumSold": "7"
                                },
                                {
                                    "Name": "LL Mountain Frame - Black, 40",
                                    "NumSold": "8"
                                },
                                {
                                    "Name": "LL Road Seat/Saddle",
                                    "NumSold": "10"
                                },
                                {
                                    "Name": "LL Touring Frame - Blue, 62",
                                    "NumSold": "15"
                                },
                                {
                                    "Name": "LL Mountain Frame - Black, 52",
                                    "NumSold": "15"
                                },
                                {
                                    "Name": "HL Mountain Frame - Black, 44",
                                    "NumSold": "17"
                                },
                                {
                                    "Name": "LL Touring Frame - Blue, 44",
                                    "NumSold": "25"
                                },
                                {
                                    "Name": "LL Touring Frame - Yellow, 58",
                                    "NumSold": "36"
                                },
                                {
                                    "Name": "LL Mountain Frame - Silver, 48",
                                    "NumSold": "44"
                                }
                            ]
                        },
                        "text/html": [
                            "<table>",
                            "<tr><th>Name</th><th>NumSold</th></tr>",
                            "<tr><td>LL Touring Frame - Blue, 58</td><td>4</td></tr>",
                            "<tr><td>ML Mountain Frame-W - Silver, 38</td><td>7</td></tr>",
                            "<tr><td>LL Mountain Frame - Black, 40</td><td>8</td></tr>",
                            "<tr><td>LL Road Seat/Saddle</td><td>10</td></tr>",
                            "<tr><td>LL Touring Frame - Blue, 62</td><td>15</td></tr>",
                            "<tr><td>LL Mountain Frame - Black, 52</td><td>15</td></tr>",
                            "<tr><td>HL Mountain Frame - Black, 44</td><td>17</td></tr>",
                            "<tr><td>LL Touring Frame - Blue, 44</td><td>25</td></tr>",
                            "<tr><td>LL Touring Frame - Yellow, 58</td><td>36</td></tr>",
                            "<tr><td>LL Mountain Frame - Silver, 48</td><td>44</td></tr>",
                            "</table>"
                        ]
                    }
                }
            ],
            "execution_count": 6
        },
        {
            "cell_type": "code",
            "source": [
                "-- PART B\n",
                "\n",
                "SELECT c.Name, MAX(a.TaxRate) AS TaxRate\n",
                "FROM Sales.SalesTaxRate a \n",
                "INNER JOIN Person.StateProvince b \n",
                "ON a.StateProvinceID = b.StateProvinceID\n",
                "INNER JOIN Person.CountryRegion c\n",
                "ON b.CountryRegionCode = c.CountryRegionCode\n",
                "GROUP BY c.Name\n",
                "ORDER BY TaxRate DESC"
            ],
            "metadata": {
                "azdata_cell_guid": "ab1bf962-1e80-4250-9990-8081d577d923",
                "language": "sql"
            },
            "outputs": [
                {
                    "output_type": "display_data",
                    "data": {
                        "text/html": "(6 rows affected)"
                    },
                    "metadata": {}
                },
                {
                    "output_type": "display_data",
                    "data": {
                        "text/html": "Total execution time: 00:00:00.045"
                    },
                    "metadata": {}
                },
                {
                    "output_type": "execute_result",
                    "metadata": {},
                    "execution_count": 7,
                    "data": {
                        "application/vnd.dataresource+json": {
                            "schema": {
                                "fields": [
                                    {
                                        "name": "Name"
                                    },
                                    {
                                        "name": "TaxRate"
                                    }
                                ]
                            },
                            "data": [
                                {
                                    "Name": "France",
                                    "TaxRate": "19.60"
                                },
                                {
                                    "Name": "United Kingdom",
                                    "TaxRate": "17.50"
                                },
                                {
                                    "Name": "Germany",
                                    "TaxRate": "16.00"
                                },
                                {
                                    "Name": "Canada",
                                    "TaxRate": "14.25"
                                },
                                {
                                    "Name": "Australia",
                                    "TaxRate": "10.00"
                                },
                                {
                                    "Name": "United States",
                                    "TaxRate": "8.80"
                                }
                            ]
                        },
                        "text/html": [
                            "<table>",
                            "<tr><th>Name</th><th>TaxRate</th></tr>",
                            "<tr><td>France</td><td>19.60</td></tr>",
                            "<tr><td>United Kingdom</td><td>17.50</td></tr>",
                            "<tr><td>Germany</td><td>16.00</td></tr>",
                            "<tr><td>Canada</td><td>14.25</td></tr>",
                            "<tr><td>Australia</td><td>10.00</td></tr>",
                            "<tr><td>United States</td><td>8.80</td></tr>",
                            "</table>"
                        ]
                    }
                }
            ],
            "execution_count": 7
        },
        {
            "cell_type": "code",
            "source": [
                "-- PART C\n",
                "\n",
                "SELECT DISTINCT st.Name AS StoreName, t.Name as TerritoryName\n",
                "FROM Production.Product p \n",
                "INNER JOIN Sales.SalesOrderDetail sod\n",
                "ON p.ProductID = sod.ProductID\n",
                "INNER JOIN Sales.SalesOrderHeader soh \n",
                "ON sod.SalesOrderID = soh.SalesOrderID\n",
                "INNER JOIN Sales.Customer c\n",
                "ON soh.CustomerID = c.CustomerID\n",
                "INNER JOIN Sales.SalesTerritory t \n",
                "ON c.TerritoryID = t.TerritoryID\n",
                "INNER JOIN Sales.Store st \n",
                "ON  c.StoreID = st.BusinessEntityID\n",
                "WHERE p.Name LIKE '%helmet%'\n",
                "AND soh.ShipDate >= '2014-02-01'\n",
                "AND soh.ShipDate <= '2014-02-05'\n",
                "ORDER BY TerritoryName, StoreName"
            ],
            "metadata": {
                "azdata_cell_guid": "e07f4a0a-81bc-4ce4-bb1b-565b86428884",
                "language": "sql"
            },
            "outputs": [
                {
                    "output_type": "display_data",
                    "data": {
                        "text/html": "(36 rows affected)"
                    },
                    "metadata": {}
                },
                {
                    "output_type": "display_data",
                    "data": {
                        "text/html": "Total execution time: 00:00:00.051"
                    },
                    "metadata": {}
                },
                {
                    "output_type": "execute_result",
                    "metadata": {},
                    "execution_count": 8,
                    "data": {
                        "application/vnd.dataresource+json": {
                            "schema": {
                                "fields": [
                                    {
                                        "name": "StoreName"
                                    },
                                    {
                                        "name": "TerritoryName"
                                    }
                                ]
                            },
                            "data": [
                                {
                                    "StoreName": "Bike Part Wholesalers",
                                    "TerritoryName": "Australia"
                                },
                                {
                                    "StoreName": "Nationwide Supply",
                                    "TerritoryName": "Australia"
                                },
                                {
                                    "StoreName": "Popular Bike Lines",
                                    "TerritoryName": "Australia"
                                },
                                {
                                    "StoreName": "Corner Bicycle Supply",
                                    "TerritoryName": "Canada"
                                },
                                {
                                    "StoreName": "Odometers and Accessories Company",
                                    "TerritoryName": "Canada"
                                },
                                {
                                    "StoreName": "Petroleum Products Distributors",
                                    "TerritoryName": "Canada"
                                },
                                {
                                    "StoreName": "Rapid Bikes",
                                    "TerritoryName": "Canada"
                                },
                                {
                                    "StoreName": "Vigorous Exercise Company",
                                    "TerritoryName": "Canada"
                                },
                                {
                                    "StoreName": "Local Sales and Rental",
                                    "TerritoryName": "Central"
                                },
                                {
                                    "StoreName": "Riders Company",
                                    "TerritoryName": "Central"
                                },
                                {
                                    "StoreName": "Work and Play Association",
                                    "TerritoryName": "Central"
                                },
                                {
                                    "StoreName": "World of Bikes",
                                    "TerritoryName": "Central"
                                },
                                {
                                    "StoreName": "Getaway Inn",
                                    "TerritoryName": "France"
                                },
                                {
                                    "StoreName": "Neighborhood Bicycle Storehouse",
                                    "TerritoryName": "France"
                                },
                                {
                                    "StoreName": "Racing Sales and Service",
                                    "TerritoryName": "France"
                                },
                                {
                                    "StoreName": "Educational Services",
                                    "TerritoryName": "Germany"
                                },
                                {
                                    "StoreName": "Enterprise Center",
                                    "TerritoryName": "Germany"
                                },
                                {
                                    "StoreName": "Rodeway Bike Store",
                                    "TerritoryName": "Germany"
                                },
                                {
                                    "StoreName": "Fourth Bike Store",
                                    "TerritoryName": "Northeast"
                                },
                                {
                                    "StoreName": "Glossy Bikes",
                                    "TerritoryName": "Northeast"
                                },
                                {
                                    "StoreName": "Larger Cycle Shop",
                                    "TerritoryName": "Northeast"
                                },
                                {
                                    "StoreName": "Recreation Systems",
                                    "TerritoryName": "Northeast"
                                },
                                {
                                    "StoreName": "The Bike Mechanics",
                                    "TerritoryName": "Northeast"
                                },
                                {
                                    "StoreName": "Fashionable Bikes and Accessories",
                                    "TerritoryName": "Northwest"
                                },
                                {
                                    "StoreName": "Blue-Ribbon Bike Company",
                                    "TerritoryName": "Southeast"
                                },
                                {
                                    "StoreName": "Excellent Riding Supplies",
                                    "TerritoryName": "Southeast"
                                },
                                {
                                    "StoreName": "Front Runner Bikes",
                                    "TerritoryName": "Southeast"
                                },
                                {
                                    "StoreName": "Sales and Supply Company",
                                    "TerritoryName": "Southeast"
                                },
                                {
                                    "StoreName": "Advanced Bike Components",
                                    "TerritoryName": "Southwest"
                                },
                                {
                                    "StoreName": "Chic Department Stores",
                                    "TerritoryName": "Southwest"
                                },
                                {
                                    "StoreName": "Coalition Bike Company",
                                    "TerritoryName": "Southwest"
                                },
                                {
                                    "StoreName": "Eastside Department Store",
                                    "TerritoryName": "Southwest"
                                },
                                {
                                    "StoreName": "First Cycle Store",
                                    "TerritoryName": "Southwest"
                                },
                                {
                                    "StoreName": "Futuristic Bikes",
                                    "TerritoryName": "Southwest"
                                },
                                {
                                    "StoreName": "Action Bicycle Specialists",
                                    "TerritoryName": "United Kingdom"
                                },
                                {
                                    "StoreName": "Riding Cycles",
                                    "TerritoryName": "United Kingdom"
                                }
                            ]
                        },
                        "text/html": [
                            "<table>",
                            "<tr><th>StoreName</th><th>TerritoryName</th></tr>",
                            "<tr><td>Bike Part Wholesalers</td><td>Australia</td></tr>",
                            "<tr><td>Nationwide Supply</td><td>Australia</td></tr>",
                            "<tr><td>Popular Bike Lines</td><td>Australia</td></tr>",
                            "<tr><td>Corner Bicycle Supply</td><td>Canada</td></tr>",
                            "<tr><td>Odometers and Accessories Company</td><td>Canada</td></tr>",
                            "<tr><td>Petroleum Products Distributors</td><td>Canada</td></tr>",
                            "<tr><td>Rapid Bikes</td><td>Canada</td></tr>",
                            "<tr><td>Vigorous Exercise Company</td><td>Canada</td></tr>",
                            "<tr><td>Local Sales and Rental</td><td>Central</td></tr>",
                            "<tr><td>Riders Company</td><td>Central</td></tr>",
                            "<tr><td>Work and Play Association</td><td>Central</td></tr>",
                            "<tr><td>World of Bikes</td><td>Central</td></tr>",
                            "<tr><td>Getaway Inn</td><td>France</td></tr>",
                            "<tr><td>Neighborhood Bicycle Storehouse</td><td>France</td></tr>",
                            "<tr><td>Racing Sales and Service</td><td>France</td></tr>",
                            "<tr><td>Educational Services</td><td>Germany</td></tr>",
                            "<tr><td>Enterprise Center</td><td>Germany</td></tr>",
                            "<tr><td>Rodeway Bike Store</td><td>Germany</td></tr>",
                            "<tr><td>Fourth Bike Store</td><td>Northeast</td></tr>",
                            "<tr><td>Glossy Bikes</td><td>Northeast</td></tr>",
                            "<tr><td>Larger Cycle Shop</td><td>Northeast</td></tr>",
                            "<tr><td>Recreation Systems</td><td>Northeast</td></tr>",
                            "<tr><td>The Bike Mechanics</td><td>Northeast</td></tr>",
                            "<tr><td>Fashionable Bikes and Accessories</td><td>Northwest</td></tr>",
                            "<tr><td>Blue-Ribbon Bike Company</td><td>Southeast</td></tr>",
                            "<tr><td>Excellent Riding Supplies</td><td>Southeast</td></tr>",
                            "<tr><td>Front Runner Bikes</td><td>Southeast</td></tr>",
                            "<tr><td>Sales and Supply Company</td><td>Southeast</td></tr>",
                            "<tr><td>Advanced Bike Components</td><td>Southwest</td></tr>",
                            "<tr><td>Chic Department Stores</td><td>Southwest</td></tr>",
                            "<tr><td>Coalition Bike Company</td><td>Southwest</td></tr>",
                            "<tr><td>Eastside Department Store</td><td>Southwest</td></tr>",
                            "<tr><td>First Cycle Store</td><td>Southwest</td></tr>",
                            "<tr><td>Futuristic Bikes</td><td>Southwest</td></tr>",
                            "<tr><td>Action Bicycle Specialists</td><td>United Kingdom</td></tr>",
                            "<tr><td>Riding Cycles</td><td>United Kingdom</td></tr>",
                            "</table>"
                        ]
                    }
                }
            ],
            "execution_count": 8
        }
    ]
}