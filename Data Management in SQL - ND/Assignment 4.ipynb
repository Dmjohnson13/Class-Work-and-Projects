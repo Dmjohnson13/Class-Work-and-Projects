{
    "metadata": {
        "kernelspec": {
            "name": "SQL",
            "display_name": "SQL",
            "language": "sql"
        },
        "language_info": {
            "name": "sql",
            "version": ""
        }
    },
    "nbformat_minor": 2,
    "nbformat": 4,
    "cells": [
        {
            "cell_type": "code",
            "source": [
                "-- Access ADW\n",
                "USE ADW"
            ],
            "metadata": {
                "azdata_cell_guid": "67f7ed9c-6cc4-4159-aba7-0d7ab459872e",
                "language": "sql",
                "tags": []
            },
            "outputs": [
                {
                    "output_type": "display_data",
                    "data": {
                        "text/html": "Commands completed successfully."
                    },
                    "metadata": {}
                },
                {
                    "output_type": "display_data",
                    "data": {
                        "text/html": "Total execution time: 00:00:00.026"
                    },
                    "metadata": {}
                }
            ],
            "execution_count": 1
        },
        {
            "cell_type": "markdown",
            "source": [
                "**Problem 1**"
            ],
            "metadata": {
                "azdata_cell_guid": "06c4167b-85b1-40aa-bcce-26886118938d"
            },
            "attachments": {}
        },
        {
            "cell_type": "code",
            "source": [
                "SELECT dr.ResellerName,\n",
                "       dg.EnglishCountryRegionName AS CountryName,\n",
                "       dpc.EnglishProductCategoryName AS ProductCategory,\n",
                "       ROUND(SUM(fr.SalesAmount), 2) AS TotalSales,\n",
                "       dc.CurrencyName AS Currency\n",
                "FROM FactResellerSales fr\n",
                "INNER JOIN DimReseller dr\n",
                "ON fr.ResellerKey = dr.ResellerKey\n",
                "INNER JOIN DimGeography dg\n",
                "ON dr.GeographyKey = dg.GeographyKey\n",
                "INNER JOIN DimCurrency dc \n",
                "ON fr.CurrencyKey = dc.CurrencyKey\n",
                "INNER JOIN DimPromotion dp\n",
                "ON fr.PromotionKey = dp.PromotionKey\n",
                "INNER JOIN DimProduct dprod\n",
                "ON fr.ProductKey = dprod.ProductKey\n",
                "INNER JOIN DimProductSubcategory dpsc \n",
                "ON dprod.ProductSubcategoryKey = dpsc.ProductSubcategoryKey\n",
                "INNER JOIN DimProductCategory dpc\n",
                "ON dpsc.ProductCategoryKey = dpc.ProductCategoryKey\n",
                "WHERE dp.EnglishPromotionName = 'Touring-3000 Promotion'\n",
                "GROUP BY \n",
                "    dr.ResellerName,\n",
                "    dg.EnglishCountryRegionName,\n",
                "    dpc.EnglishProductCategoryName,\n",
                "    dc.CurrencyName\n",
                "ORDER BY TotalSales DESC"
            ],
            "metadata": {
                "azdata_cell_guid": "052a9c3e-5ac8-433f-83cc-750c97de4848",
                "language": "sql"
            },
            "outputs": [
                {
                    "output_type": "display_data",
                    "data": {
                        "text/html": "(101 rows affected)"
                    },
                    "metadata": {}
                },
                {
                    "output_type": "display_data",
                    "data": {
                        "text/html": "Total execution time: 00:00:00.060"
                    },
                    "metadata": {}
                },
                {
                    "output_type": "execute_result",
                    "execution_count": 12,
                    "data": {
                        "application/vnd.dataresource+json": {
                            "schema": {
                                "fields": [
                                    {
                                        "name": "ResellerName"
                                    },
                                    {
                                        "name": "CountryName"
                                    },
                                    {
                                        "name": "ProductCategory"
                                    },
                                    {
                                        "name": "TotalSales"
                                    },
                                    {
                                        "name": "Currency"
                                    }
                                ]
                            },
                            "data": [
                                {
                                    "ResellerName": "Action Bicycle Specialists",
                                    "CountryName": "United Kingdom",
                                    "ProductCategory": "Bikes",
                                    "TotalSales": "19024.57",
                                    "Currency": "United Kingdom Pound"
                                },
                                {
                                    "ResellerName": "Westside Plaza",
                                    "CountryName": "United States",
                                    "ProductCategory": "Bikes",
                                    "TotalSales": "19024.57",
                                    "Currency": "US Dollar"
                                },
                                {
                                    "ResellerName": "Camping and Sports Store",
                                    "CountryName": "Canada",
                                    "ProductCategory": "Bikes",
                                    "TotalSales": "17320.88",
                                    "Currency": "Canadian Dollar"
                                },
                                {
                                    "ResellerName": "Global Bike Retailers",
                                    "CountryName": "Germany",
                                    "ProductCategory": "Bikes",
                                    "TotalSales": "16752.98",
                                    "Currency": "EURO"
                                },
                                {
                                    "ResellerName": "Perfect Toys",
                                    "CountryName": "France",
                                    "ProductCategory": "Bikes",
                                    "TotalSales": "15333.24",
                                    "Currency": "US Dollar"
                                },
                                {
                                    "ResellerName": "Roadway Bicycle Supply",
                                    "CountryName": "France",
                                    "ProductCategory": "Bikes",
                                    "TotalSales": "14481.39",
                                    "Currency": "US Dollar"
                                },
                                {
                                    "ResellerName": "Rally Master Company Inc",
                                    "CountryName": "United States",
                                    "ProductCategory": "Bikes",
                                    "TotalSales": "13913.50",
                                    "Currency": "US Dollar"
                                },
                                {
                                    "ResellerName": "Best Cycle Store",
                                    "CountryName": "Germany",
                                    "ProductCategory": "Bikes",
                                    "TotalSales": "12493.75",
                                    "Currency": "EURO"
                                },
                                {
                                    "ResellerName": "Front Runner Bikes",
                                    "CountryName": "United States",
                                    "ProductCategory": "Bikes",
                                    "TotalSales": "11641.90",
                                    "Currency": "US Dollar"
                                },
                                {
                                    "ResellerName": "Favorite Toy Distributor",
                                    "CountryName": "France",
                                    "ProductCategory": "Bikes",
                                    "TotalSales": "10506.11",
                                    "Currency": "EURO"
                                },
                                {
                                    "ResellerName": "Glossy Bikes",
                                    "CountryName": "United States",
                                    "ProductCategory": "Bikes",
                                    "TotalSales": "9086.36",
                                    "Currency": "US Dollar"
                                },
                                {
                                    "ResellerName": "Outstanding Cycles",
                                    "CountryName": "United States",
                                    "ProductCategory": "Bikes",
                                    "TotalSales": "9086.36",
                                    "Currency": "US Dollar"
                                },
                                {
                                    "ResellerName": "Another Bicycle Company",
                                    "CountryName": "United States",
                                    "ProductCategory": "Bikes",
                                    "TotalSales": "8518.47",
                                    "Currency": "US Dollar"
                                },
                                {
                                    "ResellerName": "Vintage Sport Boutique",
                                    "CountryName": "United States",
                                    "ProductCategory": "Bikes",
                                    "TotalSales": "8518.47",
                                    "Currency": "US Dollar"
                                },
                                {
                                    "ResellerName": "Technical Parts Manufacturing",
                                    "CountryName": "United States",
                                    "ProductCategory": "Bikes",
                                    "TotalSales": "8518.47",
                                    "Currency": "US Dollar"
                                },
                                {
                                    "ResellerName": "Instruments and Parts Company",
                                    "CountryName": "United Kingdom",
                                    "ProductCategory": "Bikes",
                                    "TotalSales": "7950.57",
                                    "Currency": "United Kingdom Pound"
                                },
                                {
                                    "ResellerName": "Metro Metals Co.",
                                    "CountryName": "United Kingdom",
                                    "ProductCategory": "Bikes",
                                    "TotalSales": "7666.62",
                                    "Currency": "United Kingdom Pound"
                                },
                                {
                                    "ResellerName": "Extreme Riding Supplies",
                                    "CountryName": "United States",
                                    "ProductCategory": "Bikes",
                                    "TotalSales": "7666.62",
                                    "Currency": "US Dollar"
                                },
                                {
                                    "ResellerName": "Nationwide Supply",
                                    "CountryName": "Australia",
                                    "ProductCategory": "Bikes",
                                    "TotalSales": "7382.67",
                                    "Currency": "Australian Dollar"
                                },
                                {
                                    "ResellerName": "Next Door Cycles",
                                    "CountryName": "Germany",
                                    "ProductCategory": "Bikes",
                                    "TotalSales": "7382.67",
                                    "Currency": "EURO"
                                },
                                {
                                    "ResellerName": "Petroleum Products Distributors",
                                    "CountryName": "Canada",
                                    "ProductCategory": "Bikes",
                                    "TotalSales": "7098.72",
                                    "Currency": "Canadian Dollar"
                                },
                                {
                                    "ResellerName": "Roadway Bike Emporium",
                                    "CountryName": "United States",
                                    "ProductCategory": "Bikes",
                                    "TotalSales": "7098.72",
                                    "Currency": "US Dollar"
                                },
                                {
                                    "ResellerName": "Utilitarian Sporting Goods",
                                    "CountryName": "United States",
                                    "ProductCategory": "Bikes",
                                    "TotalSales": "6814.77",
                                    "Currency": "US Dollar"
                                },
                                {
                                    "ResellerName": "Grand Industries",
                                    "CountryName": "Canada",
                                    "ProductCategory": "Bikes",
                                    "TotalSales": "6530.82",
                                    "Currency": "Canadian Dollar"
                                },
                                {
                                    "ResellerName": "Farthest Bike Store",
                                    "CountryName": "Canada",
                                    "ProductCategory": "Bikes",
                                    "TotalSales": "6246.88",
                                    "Currency": "Canadian Dollar"
                                },
                                {
                                    "ResellerName": "Excellent Bikes",
                                    "CountryName": "Germany",
                                    "ProductCategory": "Bikes",
                                    "TotalSales": "6246.88",
                                    "Currency": "EURO"
                                },
                                {
                                    "ResellerName": "Running and Cycling Gear",
                                    "CountryName": "United States",
                                    "ProductCategory": "Bikes",
                                    "TotalSales": "5678.98",
                                    "Currency": "US Dollar"
                                },
                                {
                                    "ResellerName": "Amalgamated Parts Shop",
                                    "CountryName": "Germany",
                                    "ProductCategory": "Bikes",
                                    "TotalSales": "5395.03",
                                    "Currency": "EURO"
                                },
                                {
                                    "ResellerName": "Gears and Parts Company",
                                    "CountryName": "Australia",
                                    "ProductCategory": "Bikes",
                                    "TotalSales": "5111.08",
                                    "Currency": "Australian Dollar"
                                },
                                {
                                    "ResellerName": "Rugged Bikes",
                                    "CountryName": "United States",
                                    "ProductCategory": "Bikes",
                                    "TotalSales": "5111.08",
                                    "Currency": "US Dollar"
                                },
                                {
                                    "ResellerName": "Helmets and Cycles",
                                    "CountryName": "Australia",
                                    "ProductCategory": "Bikes",
                                    "TotalSales": "4827.13",
                                    "Currency": "Australian Dollar"
                                },
                                {
                                    "ResellerName": "Odometers and Accessories Company",
                                    "CountryName": "Canada",
                                    "ProductCategory": "Bikes",
                                    "TotalSales": "4827.13",
                                    "Currency": "Canadian Dollar"
                                },
                                {
                                    "ResellerName": "Eighth Bike Store",
                                    "CountryName": "United States",
                                    "ProductCategory": "Bikes",
                                    "TotalSales": "4827.13",
                                    "Currency": "US Dollar"
                                },
                                {
                                    "ResellerName": "Educational Services",
                                    "CountryName": "Germany",
                                    "ProductCategory": "Bikes",
                                    "TotalSales": "4543.18",
                                    "Currency": "EURO"
                                },
                                {
                                    "ResellerName": "Immense Manufacturing Company",
                                    "CountryName": "United States",
                                    "ProductCategory": "Bikes",
                                    "TotalSales": "4543.18",
                                    "Currency": "US Dollar"
                                },
                                {
                                    "ResellerName": "Sleek Bikes",
                                    "CountryName": "United States",
                                    "ProductCategory": "Bikes",
                                    "TotalSales": "4543.18",
                                    "Currency": "US Dollar"
                                },
                                {
                                    "ResellerName": "Kickstands and Accessories Company",
                                    "CountryName": "United States",
                                    "ProductCategory": "Bikes",
                                    "TotalSales": "4259.23",
                                    "Currency": "US Dollar"
                                },
                                {
                                    "ResellerName": "Fourth Bike Store",
                                    "CountryName": "United States",
                                    "ProductCategory": "Bikes",
                                    "TotalSales": "4259.23",
                                    "Currency": "US Dollar"
                                },
                                {
                                    "ResellerName": "Mountain Bike Store",
                                    "CountryName": "United States",
                                    "ProductCategory": "Bikes",
                                    "TotalSales": "4259.23",
                                    "Currency": "US Dollar"
                                },
                                {
                                    "ResellerName": "Industrial Supplies",
                                    "CountryName": "United States",
                                    "ProductCategory": "Bikes",
                                    "TotalSales": "3975.28",
                                    "Currency": "US Dollar"
                                },
                                {
                                    "ResellerName": "Cycle Parts and Accessories",
                                    "CountryName": "Australia",
                                    "ProductCategory": "Bikes",
                                    "TotalSales": "3975.28",
                                    "Currency": "Australian Dollar"
                                },
                                {
                                    "ResellerName": "Authorized Bike Sales and Rental",
                                    "CountryName": "United States",
                                    "ProductCategory": "Bikes",
                                    "TotalSales": "3975.28",
                                    "Currency": "US Dollar"
                                },
                                {
                                    "ResellerName": "Blue-Ribbon Bike Company",
                                    "CountryName": "United States",
                                    "ProductCategory": "Bikes",
                                    "TotalSales": "3975.28",
                                    "Currency": "US Dollar"
                                },
                                {
                                    "ResellerName": "Quick Parts and Service",
                                    "CountryName": "Canada",
                                    "ProductCategory": "Bikes",
                                    "TotalSales": "3975.28",
                                    "Currency": "Canadian Dollar"
                                },
                                {
                                    "ResellerName": "The Bike Outlet",
                                    "CountryName": "France",
                                    "ProductCategory": "Bikes",
                                    "TotalSales": "3975.28",
                                    "Currency": "US Dollar"
                                },
                                {
                                    "ResellerName": "Fitness Supplies",
                                    "CountryName": "United States",
                                    "ProductCategory": "Bikes",
                                    "TotalSales": "3691.34",
                                    "Currency": "US Dollar"
                                },
                                {
                                    "ResellerName": "Exchange Parts Inc.",
                                    "CountryName": "United States",
                                    "ProductCategory": "Bikes",
                                    "TotalSales": "3691.34",
                                    "Currency": "US Dollar"
                                },
                                {
                                    "ResellerName": "Bike Part Wholesalers",
                                    "CountryName": "Australia",
                                    "ProductCategory": "Bikes",
                                    "TotalSales": "3691.34",
                                    "Currency": "Australian Dollar"
                                },
                                {
                                    "ResellerName": "Popular Bike Lines",
                                    "CountryName": "Australia",
                                    "ProductCategory": "Bikes",
                                    "TotalSales": "3691.34",
                                    "Currency": "Australian Dollar"
                                },
                                {
                                    "ResellerName": "Helpful Sales and Repair Service",
                                    "CountryName": "Australia",
                                    "ProductCategory": "Bikes",
                                    "TotalSales": "3691.34",
                                    "Currency": "Australian Dollar"
                                },
                                {
                                    "ResellerName": "Stock Parts and Supplies",
                                    "CountryName": "United States",
                                    "ProductCategory": "Bikes",
                                    "TotalSales": "3407.39",
                                    "Currency": "US Dollar"
                                },
                                {
                                    "ResellerName": "Variety Cycling",
                                    "CountryName": "United Kingdom",
                                    "ProductCategory": "Bikes",
                                    "TotalSales": "3123.44",
                                    "Currency": "United Kingdom Pound"
                                },
                                {
                                    "ResellerName": "Cycles Wholesaler & Mfg.",
                                    "CountryName": "United Kingdom",
                                    "ProductCategory": "Bikes",
                                    "TotalSales": "3123.44",
                                    "Currency": "United Kingdom Pound"
                                },
                                {
                                    "ResellerName": "Fast Bike Works",
                                    "CountryName": "Australia",
                                    "ProductCategory": "Bikes",
                                    "TotalSales": "3123.44",
                                    "Currency": "Australian Dollar"
                                },
                                {
                                    "ResellerName": "Fasteners & Bolts Outlet",
                                    "CountryName": "Canada",
                                    "ProductCategory": "Bikes",
                                    "TotalSales": "2839.49",
                                    "Currency": "Canadian Dollar"
                                },
                                {
                                    "ResellerName": "Locks Company",
                                    "CountryName": "United States",
                                    "ProductCategory": "Bikes",
                                    "TotalSales": "2839.49",
                                    "Currency": "US Dollar"
                                },
                                {
                                    "ResellerName": "Metal Clearing House",
                                    "CountryName": "Canada",
                                    "ProductCategory": "Bikes",
                                    "TotalSales": "2839.49",
                                    "Currency": "Canadian Dollar"
                                },
                                {
                                    "ResellerName": "Pedaling Components",
                                    "CountryName": "Germany",
                                    "ProductCategory": "Bikes",
                                    "TotalSales": "2555.54",
                                    "Currency": "EURO"
                                },
                                {
                                    "ResellerName": "Rich Department Store",
                                    "CountryName": "Australia",
                                    "ProductCategory": "Bikes",
                                    "TotalSales": "2271.59",
                                    "Currency": "Australian Dollar"
                                },
                                {
                                    "ResellerName": "Professional Sales and Service",
                                    "CountryName": "United States",
                                    "ProductCategory": "Bikes",
                                    "TotalSales": "2271.59",
                                    "Currency": "US Dollar"
                                },
                                {
                                    "ResellerName": "Fun Toys and Bikes",
                                    "CountryName": "United States",
                                    "ProductCategory": "Bikes",
                                    "TotalSales": "2271.59",
                                    "Currency": "US Dollar"
                                },
                                {
                                    "ResellerName": "Honest Repair Service",
                                    "CountryName": "United States",
                                    "ProductCategory": "Bikes",
                                    "TotalSales": "1987.64",
                                    "Currency": "US Dollar"
                                },
                                {
                                    "ResellerName": "Sports Merchandise",
                                    "CountryName": "United States",
                                    "ProductCategory": "Bikes",
                                    "TotalSales": "1987.64",
                                    "Currency": "US Dollar"
                                },
                                {
                                    "ResellerName": "Small Bike Accessories Shop",
                                    "CountryName": "United States",
                                    "ProductCategory": "Bikes",
                                    "TotalSales": "1987.64",
                                    "Currency": "US Dollar"
                                },
                                {
                                    "ResellerName": "South Bike Company",
                                    "CountryName": "Canada",
                                    "ProductCategory": "Bikes",
                                    "TotalSales": "1703.69",
                                    "Currency": "Canadian Dollar"
                                },
                                {
                                    "ResellerName": "Racing Supply Distributors",
                                    "CountryName": "France",
                                    "ProductCategory": "Bikes",
                                    "TotalSales": "1703.69",
                                    "Currency": "US Dollar"
                                },
                                {
                                    "ResellerName": "Liquidation Sales",
                                    "CountryName": "Australia",
                                    "ProductCategory": "Bikes",
                                    "TotalSales": "1703.69",
                                    "Currency": "Australian Dollar"
                                },
                                {
                                    "ResellerName": "Machines & Cycles Store",
                                    "CountryName": "Canada",
                                    "ProductCategory": "Bikes",
                                    "TotalSales": "1419.74",
                                    "Currency": "Canadian Dollar"
                                },
                                {
                                    "ResellerName": "Finer Sporting Goods",
                                    "CountryName": "France",
                                    "ProductCategory": "Bikes",
                                    "TotalSales": "1419.74",
                                    "Currency": "US Dollar"
                                },
                                {
                                    "ResellerName": "First Supplies",
                                    "CountryName": "Australia",
                                    "ProductCategory": "Bikes",
                                    "TotalSales": "1419.74",
                                    "Currency": "Australian Dollar"
                                },
                                {
                                    "ResellerName": "Quitting Business Distributors",
                                    "CountryName": "United States",
                                    "ProductCategory": "Bikes",
                                    "TotalSales": "1419.74",
                                    "Currency": "US Dollar"
                                },
                                {
                                    "ResellerName": "Thrilling Bike Tours",
                                    "CountryName": "United States",
                                    "ProductCategory": "Bikes",
                                    "TotalSales": "1419.74",
                                    "Currency": "US Dollar"
                                },
                                {
                                    "ResellerName": "Systematic Sales",
                                    "CountryName": "United States",
                                    "ProductCategory": "Bikes",
                                    "TotalSales": "1135.80",
                                    "Currency": "US Dollar"
                                },
                                {
                                    "ResellerName": "Finer Mart",
                                    "CountryName": "United States",
                                    "ProductCategory": "Bikes",
                                    "TotalSales": "1135.80",
                                    "Currency": "US Dollar"
                                },
                                {
                                    "ResellerName": "Engineered Bike Systems",
                                    "CountryName": "United States",
                                    "ProductCategory": "Bikes",
                                    "TotalSales": "1135.80",
                                    "Currency": "US Dollar"
                                },
                                {
                                    "ResellerName": "Cycles Sales and Repair",
                                    "CountryName": "France",
                                    "ProductCategory": "Bikes",
                                    "TotalSales": "1135.80",
                                    "Currency": "US Dollar"
                                },
                                {
                                    "ResellerName": "Bicycle Exporters",
                                    "CountryName": "Germany",
                                    "ProductCategory": "Bikes",
                                    "TotalSales": "1135.80",
                                    "Currency": "EURO"
                                },
                                {
                                    "ResellerName": "Plastic Products Manufacturers",
                                    "CountryName": "Australia",
                                    "ProductCategory": "Bikes",
                                    "TotalSales": "1135.80",
                                    "Currency": "Australian Dollar"
                                },
                                {
                                    "ResellerName": "Novelty Bikes",
                                    "CountryName": "United States",
                                    "ProductCategory": "Bikes",
                                    "TotalSales": "1135.80",
                                    "Currency": "US Dollar"
                                },
                                {
                                    "ResellerName": "Paints and Solvents Company",
                                    "CountryName": "United States",
                                    "ProductCategory": "Bikes",
                                    "TotalSales": "851.85",
                                    "Currency": "US Dollar"
                                },
                                {
                                    "ResellerName": "Efficient Cycling",
                                    "CountryName": "Canada",
                                    "ProductCategory": "Bikes",
                                    "TotalSales": "851.85",
                                    "Currency": "Canadian Dollar"
                                },
                                {
                                    "ResellerName": "Exemplary Cycles",
                                    "CountryName": "United States",
                                    "ProductCategory": "Bikes",
                                    "TotalSales": "851.85",
                                    "Currency": "US Dollar"
                                },
                                {
                                    "ResellerName": "West Wind Distributors",
                                    "CountryName": "Germany",
                                    "ProductCategory": "Bikes",
                                    "TotalSales": "851.85",
                                    "Currency": "EURO"
                                },
                                {
                                    "ResellerName": "Rural Department Store",
                                    "CountryName": "United States",
                                    "ProductCategory": "Bikes",
                                    "TotalSales": "567.90",
                                    "Currency": "US Dollar"
                                },
                                {
                                    "ResellerName": "Purchase Mart",
                                    "CountryName": "United States",
                                    "ProductCategory": "Bikes",
                                    "TotalSales": "567.90",
                                    "Currency": "US Dollar"
                                },
                                {
                                    "ResellerName": "Quality Bike Sales",
                                    "CountryName": "Australia",
                                    "ProductCategory": "Bikes",
                                    "TotalSales": "567.90",
                                    "Currency": "Australian Dollar"
                                },
                                {
                                    "ResellerName": "List Price Catalog Company",
                                    "CountryName": "Australia",
                                    "ProductCategory": "Bikes",
                                    "TotalSales": "567.90",
                                    "Currency": "Australian Dollar"
                                },
                                {
                                    "ResellerName": "Incomparable Bicycle Store",
                                    "CountryName": "United States",
                                    "ProductCategory": "Bikes",
                                    "TotalSales": "283.95",
                                    "Currency": "US Dollar"
                                },
                                {
                                    "ResellerName": "Off-Price Bike Center",
                                    "CountryName": "Germany",
                                    "ProductCategory": "Bikes",
                                    "TotalSales": "283.95",
                                    "Currency": "EURO"
                                },
                                {
                                    "ResellerName": "Family Entertainment Center",
                                    "CountryName": "United States",
                                    "ProductCategory": "Bikes",
                                    "TotalSales": "283.95",
                                    "Currency": "US Dollar"
                                },
                                {
                                    "ResellerName": "Fitness Bike Accessories",
                                    "CountryName": "Australia",
                                    "ProductCategory": "Bikes",
                                    "TotalSales": "283.95",
                                    "Currency": "Australian Dollar"
                                },
                                {
                                    "ResellerName": "Fitness Discount Store",
                                    "CountryName": "Australia",
                                    "ProductCategory": "Bikes",
                                    "TotalSales": "283.95",
                                    "Currency": "Australian Dollar"
                                },
                                {
                                    "ResellerName": "Eastside Cycle Shop",
                                    "CountryName": "Australia",
                                    "ProductCategory": "Bikes",
                                    "TotalSales": "283.95",
                                    "Currency": "Australian Dollar"
                                },
                                {
                                    "ResellerName": "Eastward Bike Accessories",
                                    "CountryName": "Australia",
                                    "ProductCategory": "Bikes",
                                    "TotalSales": "283.95",
                                    "Currency": "Australian Dollar"
                                },
                                {
                                    "ResellerName": "Cycle Clearance",
                                    "CountryName": "United States",
                                    "ProductCategory": "Bikes",
                                    "TotalSales": "283.95",
                                    "Currency": "US Dollar"
                                },
                                {
                                    "ResellerName": "Accessories Network",
                                    "CountryName": "France",
                                    "ProductCategory": "Bikes",
                                    "TotalSales": "283.95",
                                    "Currency": "US Dollar"
                                },
                                {
                                    "ResellerName": "Rustic Bike Store",
                                    "CountryName": "Germany",
                                    "ProductCategory": "Bikes",
                                    "TotalSales": "283.95",
                                    "Currency": "EURO"
                                },
                                {
                                    "ResellerName": "Sensible Sports",
                                    "CountryName": "Australia",
                                    "ProductCategory": "Bikes",
                                    "TotalSales": "283.95",
                                    "Currency": "Australian Dollar"
                                },
                                {
                                    "ResellerName": "Rampart Amusement Company",
                                    "CountryName": "United Kingdom",
                                    "ProductCategory": "Bikes",
                                    "TotalSales": "283.95",
                                    "Currency": "United Kingdom Pound"
                                },
                                {
                                    "ResellerName": "Vale Riding Supplies",
                                    "CountryName": "United States",
                                    "ProductCategory": "Bikes",
                                    "TotalSales": "283.95",
                                    "Currency": "US Dollar"
                                },
                                {
                                    "ResellerName": "Transport Bikes",
                                    "CountryName": "United States",
                                    "ProductCategory": "Bikes",
                                    "TotalSales": "283.95",
                                    "Currency": "US Dollar"
                                }
                            ]
                        },
                        "text/html": "<table><tr><th>ResellerName</th><th>CountryName</th><th>ProductCategory</th><th>TotalSales</th><th>Currency</th></tr><tr><td>Action Bicycle Specialists</td><td>United Kingdom</td><td>Bikes</td><td>19024.57</td><td>United Kingdom Pound</td></tr><tr><td>Westside Plaza</td><td>United States</td><td>Bikes</td><td>19024.57</td><td>US Dollar</td></tr><tr><td>Camping and Sports Store</td><td>Canada</td><td>Bikes</td><td>17320.88</td><td>Canadian Dollar</td></tr><tr><td>Global Bike Retailers</td><td>Germany</td><td>Bikes</td><td>16752.98</td><td>EURO</td></tr><tr><td>Perfect Toys</td><td>France</td><td>Bikes</td><td>15333.24</td><td>US Dollar</td></tr><tr><td>Roadway Bicycle Supply</td><td>France</td><td>Bikes</td><td>14481.39</td><td>US Dollar</td></tr><tr><td>Rally Master Company Inc</td><td>United States</td><td>Bikes</td><td>13913.50</td><td>US Dollar</td></tr><tr><td>Best Cycle Store</td><td>Germany</td><td>Bikes</td><td>12493.75</td><td>EURO</td></tr><tr><td>Front Runner Bikes</td><td>United States</td><td>Bikes</td><td>11641.90</td><td>US Dollar</td></tr><tr><td>Favorite Toy Distributor</td><td>France</td><td>Bikes</td><td>10506.11</td><td>EURO</td></tr><tr><td>Glossy Bikes</td><td>United States</td><td>Bikes</td><td>9086.36</td><td>US Dollar</td></tr><tr><td>Outstanding Cycles</td><td>United States</td><td>Bikes</td><td>9086.36</td><td>US Dollar</td></tr><tr><td>Another Bicycle Company</td><td>United States</td><td>Bikes</td><td>8518.47</td><td>US Dollar</td></tr><tr><td>Vintage Sport Boutique</td><td>United States</td><td>Bikes</td><td>8518.47</td><td>US Dollar</td></tr><tr><td>Technical Parts Manufacturing</td><td>United States</td><td>Bikes</td><td>8518.47</td><td>US Dollar</td></tr><tr><td>Instruments and Parts Company</td><td>United Kingdom</td><td>Bikes</td><td>7950.57</td><td>United Kingdom Pound</td></tr><tr><td>Metro Metals Co.</td><td>United Kingdom</td><td>Bikes</td><td>7666.62</td><td>United Kingdom Pound</td></tr><tr><td>Extreme Riding Supplies</td><td>United States</td><td>Bikes</td><td>7666.62</td><td>US Dollar</td></tr><tr><td>Nationwide Supply</td><td>Australia</td><td>Bikes</td><td>7382.67</td><td>Australian Dollar</td></tr><tr><td>Next Door Cycles</td><td>Germany</td><td>Bikes</td><td>7382.67</td><td>EURO</td></tr><tr><td>Petroleum Products Distributors</td><td>Canada</td><td>Bikes</td><td>7098.72</td><td>Canadian Dollar</td></tr><tr><td>Roadway Bike Emporium</td><td>United States</td><td>Bikes</td><td>7098.72</td><td>US Dollar</td></tr><tr><td>Utilitarian Sporting Goods</td><td>United States</td><td>Bikes</td><td>6814.77</td><td>US Dollar</td></tr><tr><td>Grand Industries</td><td>Canada</td><td>Bikes</td><td>6530.82</td><td>Canadian Dollar</td></tr><tr><td>Farthest Bike Store</td><td>Canada</td><td>Bikes</td><td>6246.88</td><td>Canadian Dollar</td></tr><tr><td>Excellent Bikes</td><td>Germany</td><td>Bikes</td><td>6246.88</td><td>EURO</td></tr><tr><td>Running and Cycling Gear</td><td>United States</td><td>Bikes</td><td>5678.98</td><td>US Dollar</td></tr><tr><td>Amalgamated Parts Shop</td><td>Germany</td><td>Bikes</td><td>5395.03</td><td>EURO</td></tr><tr><td>Gears and Parts Company</td><td>Australia</td><td>Bikes</td><td>5111.08</td><td>Australian Dollar</td></tr><tr><td>Rugged Bikes</td><td>United States</td><td>Bikes</td><td>5111.08</td><td>US Dollar</td></tr><tr><td>Helmets and Cycles</td><td>Australia</td><td>Bikes</td><td>4827.13</td><td>Australian Dollar</td></tr><tr><td>Odometers and Accessories Company</td><td>Canada</td><td>Bikes</td><td>4827.13</td><td>Canadian Dollar</td></tr><tr><td>Eighth Bike Store</td><td>United States</td><td>Bikes</td><td>4827.13</td><td>US Dollar</td></tr><tr><td>Educational Services</td><td>Germany</td><td>Bikes</td><td>4543.18</td><td>EURO</td></tr><tr><td>Immense Manufacturing Company</td><td>United States</td><td>Bikes</td><td>4543.18</td><td>US Dollar</td></tr><tr><td>Sleek Bikes</td><td>United States</td><td>Bikes</td><td>4543.18</td><td>US Dollar</td></tr><tr><td>Kickstands and Accessories Company</td><td>United States</td><td>Bikes</td><td>4259.23</td><td>US Dollar</td></tr><tr><td>Fourth Bike Store</td><td>United States</td><td>Bikes</td><td>4259.23</td><td>US Dollar</td></tr><tr><td>Mountain Bike Store</td><td>United States</td><td>Bikes</td><td>4259.23</td><td>US Dollar</td></tr><tr><td>Industrial Supplies</td><td>United States</td><td>Bikes</td><td>3975.28</td><td>US Dollar</td></tr><tr><td>Cycle Parts and Accessories</td><td>Australia</td><td>Bikes</td><td>3975.28</td><td>Australian Dollar</td></tr><tr><td>Authorized Bike Sales and Rental</td><td>United States</td><td>Bikes</td><td>3975.28</td><td>US Dollar</td></tr><tr><td>Blue-Ribbon Bike Company</td><td>United States</td><td>Bikes</td><td>3975.28</td><td>US Dollar</td></tr><tr><td>Quick Parts and Service</td><td>Canada</td><td>Bikes</td><td>3975.28</td><td>Canadian Dollar</td></tr><tr><td>The Bike Outlet</td><td>France</td><td>Bikes</td><td>3975.28</td><td>US Dollar</td></tr><tr><td>Fitness Supplies</td><td>United States</td><td>Bikes</td><td>3691.34</td><td>US Dollar</td></tr><tr><td>Exchange Parts Inc.</td><td>United States</td><td>Bikes</td><td>3691.34</td><td>US Dollar</td></tr><tr><td>Bike Part Wholesalers</td><td>Australia</td><td>Bikes</td><td>3691.34</td><td>Australian Dollar</td></tr><tr><td>Popular Bike Lines</td><td>Australia</td><td>Bikes</td><td>3691.34</td><td>Australian Dollar</td></tr><tr><td>Helpful Sales and Repair Service</td><td>Australia</td><td>Bikes</td><td>3691.34</td><td>Australian Dollar</td></tr><tr><td>Stock Parts and Supplies</td><td>United States</td><td>Bikes</td><td>3407.39</td><td>US Dollar</td></tr><tr><td>Variety Cycling</td><td>United Kingdom</td><td>Bikes</td><td>3123.44</td><td>United Kingdom Pound</td></tr><tr><td>Cycles Wholesaler &amp; Mfg.</td><td>United Kingdom</td><td>Bikes</td><td>3123.44</td><td>United Kingdom Pound</td></tr><tr><td>Fast Bike Works</td><td>Australia</td><td>Bikes</td><td>3123.44</td><td>Australian Dollar</td></tr><tr><td>Fasteners &amp; Bolts Outlet</td><td>Canada</td><td>Bikes</td><td>2839.49</td><td>Canadian Dollar</td></tr><tr><td>Locks Company</td><td>United States</td><td>Bikes</td><td>2839.49</td><td>US Dollar</td></tr><tr><td>Metal Clearing House</td><td>Canada</td><td>Bikes</td><td>2839.49</td><td>Canadian Dollar</td></tr><tr><td>Pedaling Components</td><td>Germany</td><td>Bikes</td><td>2555.54</td><td>EURO</td></tr><tr><td>Rich Department Store</td><td>Australia</td><td>Bikes</td><td>2271.59</td><td>Australian Dollar</td></tr><tr><td>Professional Sales and Service</td><td>United States</td><td>Bikes</td><td>2271.59</td><td>US Dollar</td></tr><tr><td>Fun Toys and Bikes</td><td>United States</td><td>Bikes</td><td>2271.59</td><td>US Dollar</td></tr><tr><td>Honest Repair Service</td><td>United States</td><td>Bikes</td><td>1987.64</td><td>US Dollar</td></tr><tr><td>Sports Merchandise</td><td>United States</td><td>Bikes</td><td>1987.64</td><td>US Dollar</td></tr><tr><td>Small Bike Accessories Shop</td><td>United States</td><td>Bikes</td><td>1987.64</td><td>US Dollar</td></tr><tr><td>South Bike Company</td><td>Canada</td><td>Bikes</td><td>1703.69</td><td>Canadian Dollar</td></tr><tr><td>Racing Supply Distributors</td><td>France</td><td>Bikes</td><td>1703.69</td><td>US Dollar</td></tr><tr><td>Liquidation Sales</td><td>Australia</td><td>Bikes</td><td>1703.69</td><td>Australian Dollar</td></tr><tr><td>Machines &amp; Cycles Store</td><td>Canada</td><td>Bikes</td><td>1419.74</td><td>Canadian Dollar</td></tr><tr><td>Finer Sporting Goods</td><td>France</td><td>Bikes</td><td>1419.74</td><td>US Dollar</td></tr><tr><td>First Supplies</td><td>Australia</td><td>Bikes</td><td>1419.74</td><td>Australian Dollar</td></tr><tr><td>Quitting Business Distributors</td><td>United States</td><td>Bikes</td><td>1419.74</td><td>US Dollar</td></tr><tr><td>Thrilling Bike Tours</td><td>United States</td><td>Bikes</td><td>1419.74</td><td>US Dollar</td></tr><tr><td>Systematic Sales</td><td>United States</td><td>Bikes</td><td>1135.80</td><td>US Dollar</td></tr><tr><td>Finer Mart</td><td>United States</td><td>Bikes</td><td>1135.80</td><td>US Dollar</td></tr><tr><td>Engineered Bike Systems</td><td>United States</td><td>Bikes</td><td>1135.80</td><td>US Dollar</td></tr><tr><td>Cycles Sales and Repair</td><td>France</td><td>Bikes</td><td>1135.80</td><td>US Dollar</td></tr><tr><td>Bicycle Exporters</td><td>Germany</td><td>Bikes</td><td>1135.80</td><td>EURO</td></tr><tr><td>Plastic Products Manufacturers</td><td>Australia</td><td>Bikes</td><td>1135.80</td><td>Australian Dollar</td></tr><tr><td>Novelty Bikes</td><td>United States</td><td>Bikes</td><td>1135.80</td><td>US Dollar</td></tr><tr><td>Paints and Solvents Company</td><td>United States</td><td>Bikes</td><td>851.85</td><td>US Dollar</td></tr><tr><td>Efficient Cycling</td><td>Canada</td><td>Bikes</td><td>851.85</td><td>Canadian Dollar</td></tr><tr><td>Exemplary Cycles</td><td>United States</td><td>Bikes</td><td>851.85</td><td>US Dollar</td></tr><tr><td>West Wind Distributors</td><td>Germany</td><td>Bikes</td><td>851.85</td><td>EURO</td></tr><tr><td>Rural Department Store</td><td>United States</td><td>Bikes</td><td>567.90</td><td>US Dollar</td></tr><tr><td>Purchase Mart</td><td>United States</td><td>Bikes</td><td>567.90</td><td>US Dollar</td></tr><tr><td>Quality Bike Sales</td><td>Australia</td><td>Bikes</td><td>567.90</td><td>Australian Dollar</td></tr><tr><td>List Price Catalog Company</td><td>Australia</td><td>Bikes</td><td>567.90</td><td>Australian Dollar</td></tr><tr><td>Incomparable Bicycle Store</td><td>United States</td><td>Bikes</td><td>283.95</td><td>US Dollar</td></tr><tr><td>Off-Price Bike Center</td><td>Germany</td><td>Bikes</td><td>283.95</td><td>EURO</td></tr><tr><td>Family Entertainment Center</td><td>United States</td><td>Bikes</td><td>283.95</td><td>US Dollar</td></tr><tr><td>Fitness Bike Accessories</td><td>Australia</td><td>Bikes</td><td>283.95</td><td>Australian Dollar</td></tr><tr><td>Fitness Discount Store</td><td>Australia</td><td>Bikes</td><td>283.95</td><td>Australian Dollar</td></tr><tr><td>Eastside Cycle Shop</td><td>Australia</td><td>Bikes</td><td>283.95</td><td>Australian Dollar</td></tr><tr><td>Eastward Bike Accessories</td><td>Australia</td><td>Bikes</td><td>283.95</td><td>Australian Dollar</td></tr><tr><td>Cycle Clearance</td><td>United States</td><td>Bikes</td><td>283.95</td><td>US Dollar</td></tr><tr><td>Accessories Network</td><td>France</td><td>Bikes</td><td>283.95</td><td>US Dollar</td></tr><tr><td>Rustic Bike Store</td><td>Germany</td><td>Bikes</td><td>283.95</td><td>EURO</td></tr><tr><td>Sensible Sports</td><td>Australia</td><td>Bikes</td><td>283.95</td><td>Australian Dollar</td></tr><tr><td>Rampart Amusement Company</td><td>United Kingdom</td><td>Bikes</td><td>283.95</td><td>United Kingdom Pound</td></tr><tr><td>Vale Riding Supplies</td><td>United States</td><td>Bikes</td><td>283.95</td><td>US Dollar</td></tr><tr><td>Transport Bikes</td><td>United States</td><td>Bikes</td><td>283.95</td><td>US Dollar</td></tr></table>"
                    },
                    "metadata": {}
                }
            ],
            "execution_count": 12
        },
        {
            "cell_type": "markdown",
            "source": [
                "**Problem 2**"
            ],
            "metadata": {
                "azdata_cell_guid": "c5a98ce4-351e-4725-9f8f-70d9be72429a"
            },
            "attachments": {}
        },
        {
            "cell_type": "code",
            "source": [
                "SELECT\n",
                "CASE\n",
                "    WHEN dg.StateProvinceName IS NULL THEN 'Grand'\n",
                "    ELSE dg.StateProvinceName\n",
                "    END AS StateProvinceName,\n",
                "CASE\n",
                "    WHEN GROUPING(dg.City) = 1 AND GROUPING(dg.StateProvinceName) = 1 THEN NULL\n",
                "    ELSE COALESCE(dg.City, 'Total')\n",
                "    END AS City,\n",
                "ROUND(SUM(fr.SalesAmount), 2) AS TotalSales\n",
                "FROM FactResellerSales fr \n",
                "INNER JOIN DimCurrency dc\n",
                "ON fr.CurrencyKey = dc.CurrencyKey\n",
                "INNER JOIN DimReseller dr \n",
                "ON fr.ResellerKey = dr.ResellerKey\n",
                "INNER JOIN DimGeography dg \n",
                "ON dr.GeographyKey = dg.GeographyKey\n",
                "WHERE dc.CurrencyName = 'EURO'\n",
                "GROUP BY ROLLUP(\n",
                "    dg.StateProvinceName,\n",
                "    dg.City)\n",
                "ORDER BY dg.StateProvinceName"
            ],
            "metadata": {
                "azdata_cell_guid": "9fb1c376-6398-4a09-bc1d-78fe812e6df7",
                "language": "sql"
            },
            "outputs": [
                {
                    "output_type": "display_data",
                    "data": {
                        "text/html": "(46 rows affected)"
                    },
                    "metadata": {}
                },
                {
                    "output_type": "display_data",
                    "data": {
                        "text/html": "Total execution time: 00:00:00.238"
                    },
                    "metadata": {}
                },
                {
                    "output_type": "execute_result",
                    "execution_count": 13,
                    "data": {
                        "application/vnd.dataresource+json": {
                            "schema": {
                                "fields": [
                                    {
                                        "name": "StateProvinceName"
                                    },
                                    {
                                        "name": "City"
                                    },
                                    {
                                        "name": "TotalSales"
                                    }
                                ]
                            },
                            "data": [
                                {
                                    "StateProvinceName": "Grand",
                                    "City": "NULL",
                                    "TotalSales": "2474535.71"
                                },
                                {
                                    "StateProvinceName": "Bayern",
                                    "City": "Augsburg",
                                    "TotalSales": "3192.37"
                                },
                                {
                                    "StateProvinceName": "Bayern",
                                    "City": "Frankfurt",
                                    "TotalSales": "12795.43"
                                },
                                {
                                    "StateProvinceName": "Bayern",
                                    "City": "Grevenbroich",
                                    "TotalSales": "186217.07"
                                },
                                {
                                    "StateProvinceName": "Bayern",
                                    "City": "Total",
                                    "TotalSales": "202204.87"
                                },
                                {
                                    "StateProvinceName": "Brandenburg",
                                    "City": "Berlin",
                                    "TotalSales": "144.00"
                                },
                                {
                                    "StateProvinceName": "Brandenburg",
                                    "City": "Eilenburg",
                                    "TotalSales": "116553.24"
                                },
                                {
                                    "StateProvinceName": "Brandenburg",
                                    "City": "Total",
                                    "TotalSales": "116697.24"
                                },
                                {
                                    "StateProvinceName": "Hamburg",
                                    "City": "Augsburg",
                                    "TotalSales": "5404.20"
                                },
                                {
                                    "StateProvinceName": "Hamburg",
                                    "City": "Berlin",
                                    "TotalSales": "4689.13"
                                },
                                {
                                    "StateProvinceName": "Hamburg",
                                    "City": "Essen",
                                    "TotalSales": "30648.09"
                                },
                                {
                                    "StateProvinceName": "Hamburg",
                                    "City": "Frankfurt am Main",
                                    "TotalSales": "197327.59"
                                },
                                {
                                    "StateProvinceName": "Hamburg",
                                    "City": "Hamburg",
                                    "TotalSales": "7963.93"
                                },
                                {
                                    "StateProvinceName": "Hamburg",
                                    "City": "Muehlheim",
                                    "TotalSales": "22090.04"
                                },
                                {
                                    "StateProvinceName": "Hamburg",
                                    "City": "Paderborn",
                                    "TotalSales": "3372.34"
                                },
                                {
                                    "StateProvinceName": "Hamburg",
                                    "City": "Total",
                                    "TotalSales": "271495.32"
                                },
                                {
                                    "StateProvinceName": "Hauts de Seine",
                                    "City": "Colombes",
                                    "TotalSales": "147554.83"
                                },
                                {
                                    "StateProvinceName": "Hauts de Seine",
                                    "City": "Suresnes",
                                    "TotalSales": "26980.57"
                                },
                                {
                                    "StateProvinceName": "Hauts de Seine",
                                    "City": "Total",
                                    "TotalSales": "174535.41"
                                },
                                {
                                    "StateProvinceName": "Hessen",
                                    "City": "Bad Soden",
                                    "TotalSales": "337756.73"
                                },
                                {
                                    "StateProvinceName": "Hessen",
                                    "City": "Berlin",
                                    "TotalSales": "3372.45"
                                },
                                {
                                    "StateProvinceName": "Hessen",
                                    "City": "Duesseldorf",
                                    "TotalSales": "12240.16"
                                },
                                {
                                    "StateProvinceName": "Hessen",
                                    "City": "München",
                                    "TotalSales": "8582.95"
                                },
                                {
                                    "StateProvinceName": "Hessen",
                                    "City": "Total",
                                    "TotalSales": "361952.29"
                                },
                                {
                                    "StateProvinceName": "Nordrhein-Westfalen",
                                    "City": "Berlin",
                                    "TotalSales": "26427.37"
                                },
                                {
                                    "StateProvinceName": "Nordrhein-Westfalen",
                                    "City": "Braunschweig",
                                    "TotalSales": "8140.75"
                                },
                                {
                                    "StateProvinceName": "Nordrhein-Westfalen",
                                    "City": "Hannover",
                                    "TotalSales": "29218.36"
                                },
                                {
                                    "StateProvinceName": "Nordrhein-Westfalen",
                                    "City": "Leipzig",
                                    "TotalSales": "6369.00"
                                },
                                {
                                    "StateProvinceName": "Nordrhein-Westfalen",
                                    "City": "München",
                                    "TotalSales": "153764.35"
                                },
                                {
                                    "StateProvinceName": "Nordrhein-Westfalen",
                                    "City": "Total",
                                    "TotalSales": "223919.84"
                                },
                                {
                                    "StateProvinceName": "Saarland",
                                    "City": "Berlin",
                                    "TotalSales": "220496.69"
                                },
                                {
                                    "StateProvinceName": "Saarland",
                                    "City": "Frankfurt am Main",
                                    "TotalSales": "5426.79"
                                },
                                {
                                    "StateProvinceName": "Saarland",
                                    "City": "Kiel",
                                    "TotalSales": "56130.07"
                                },
                                {
                                    "StateProvinceName": "Saarland",
                                    "City": "Münster",
                                    "TotalSales": "132143.71"
                                },
                                {
                                    "StateProvinceName": "Saarland",
                                    "City": "Offenbach",
                                    "TotalSales": "272052.23"
                                },
                                {
                                    "StateProvinceName": "Saarland",
                                    "City": "Poing",
                                    "TotalSales": "1344.59"
                                },
                                {
                                    "StateProvinceName": "Saarland",
                                    "City": "Saarbrücken",
                                    "TotalSales": "117328.46"
                                },
                                {
                                    "StateProvinceName": "Saarland",
                                    "City": "Stuttgart",
                                    "TotalSales": "228.58"
                                },
                                {
                                    "StateProvinceName": "Saarland",
                                    "City": "Sulzbach Taunus",
                                    "TotalSales": "2567.36"
                                },
                                {
                                    "StateProvinceName": "Saarland",
                                    "City": "Total",
                                    "TotalSales": "807718.47"
                                },
                                {
                                    "StateProvinceName": "Seine (Paris)",
                                    "City": "Paris",
                                    "TotalSales": "287495.02"
                                },
                                {
                                    "StateProvinceName": "Seine (Paris)",
                                    "City": "Total",
                                    "TotalSales": "287495.02"
                                },
                                {
                                    "StateProvinceName": "Seine et Marne",
                                    "City": "Lieusaint",
                                    "TotalSales": "31.58"
                                },
                                {
                                    "StateProvinceName": "Seine et Marne",
                                    "City": "Total",
                                    "TotalSales": "31.58"
                                },
                                {
                                    "StateProvinceName": "Val de Marne",
                                    "City": "Orly",
                                    "TotalSales": "28485.66"
                                },
                                {
                                    "StateProvinceName": "Val de Marne",
                                    "City": "Total",
                                    "TotalSales": "28485.66"
                                }
                            ]
                        },
                        "text/html": "<table><tr><th>StateProvinceName</th><th>City</th><th>TotalSales</th></tr><tr><td>Grand</td><td>NULL</td><td>2474535.71</td></tr><tr><td>Bayern</td><td>Augsburg</td><td>3192.37</td></tr><tr><td>Bayern</td><td>Frankfurt</td><td>12795.43</td></tr><tr><td>Bayern</td><td>Grevenbroich</td><td>186217.07</td></tr><tr><td>Bayern</td><td>Total</td><td>202204.87</td></tr><tr><td>Brandenburg</td><td>Berlin</td><td>144.00</td></tr><tr><td>Brandenburg</td><td>Eilenburg</td><td>116553.24</td></tr><tr><td>Brandenburg</td><td>Total</td><td>116697.24</td></tr><tr><td>Hamburg</td><td>Augsburg</td><td>5404.20</td></tr><tr><td>Hamburg</td><td>Berlin</td><td>4689.13</td></tr><tr><td>Hamburg</td><td>Essen</td><td>30648.09</td></tr><tr><td>Hamburg</td><td>Frankfurt am Main</td><td>197327.59</td></tr><tr><td>Hamburg</td><td>Hamburg</td><td>7963.93</td></tr><tr><td>Hamburg</td><td>Muehlheim</td><td>22090.04</td></tr><tr><td>Hamburg</td><td>Paderborn</td><td>3372.34</td></tr><tr><td>Hamburg</td><td>Total</td><td>271495.32</td></tr><tr><td>Hauts de Seine</td><td>Colombes</td><td>147554.83</td></tr><tr><td>Hauts de Seine</td><td>Suresnes</td><td>26980.57</td></tr><tr><td>Hauts de Seine</td><td>Total</td><td>174535.41</td></tr><tr><td>Hessen</td><td>Bad Soden</td><td>337756.73</td></tr><tr><td>Hessen</td><td>Berlin</td><td>3372.45</td></tr><tr><td>Hessen</td><td>Duesseldorf</td><td>12240.16</td></tr><tr><td>Hessen</td><td>München</td><td>8582.95</td></tr><tr><td>Hessen</td><td>Total</td><td>361952.29</td></tr><tr><td>Nordrhein-Westfalen</td><td>Berlin</td><td>26427.37</td></tr><tr><td>Nordrhein-Westfalen</td><td>Braunschweig</td><td>8140.75</td></tr><tr><td>Nordrhein-Westfalen</td><td>Hannover</td><td>29218.36</td></tr><tr><td>Nordrhein-Westfalen</td><td>Leipzig</td><td>6369.00</td></tr><tr><td>Nordrhein-Westfalen</td><td>München</td><td>153764.35</td></tr><tr><td>Nordrhein-Westfalen</td><td>Total</td><td>223919.84</td></tr><tr><td>Saarland</td><td>Berlin</td><td>220496.69</td></tr><tr><td>Saarland</td><td>Frankfurt am Main</td><td>5426.79</td></tr><tr><td>Saarland</td><td>Kiel</td><td>56130.07</td></tr><tr><td>Saarland</td><td>Münster</td><td>132143.71</td></tr><tr><td>Saarland</td><td>Offenbach</td><td>272052.23</td></tr><tr><td>Saarland</td><td>Poing</td><td>1344.59</td></tr><tr><td>Saarland</td><td>Saarbrücken</td><td>117328.46</td></tr><tr><td>Saarland</td><td>Stuttgart</td><td>228.58</td></tr><tr><td>Saarland</td><td>Sulzbach Taunus</td><td>2567.36</td></tr><tr><td>Saarland</td><td>Total</td><td>807718.47</td></tr><tr><td>Seine (Paris)</td><td>Paris</td><td>287495.02</td></tr><tr><td>Seine (Paris)</td><td>Total</td><td>287495.02</td></tr><tr><td>Seine et Marne</td><td>Lieusaint</td><td>31.58</td></tr><tr><td>Seine et Marne</td><td>Total</td><td>31.58</td></tr><tr><td>Val de Marne</td><td>Orly</td><td>28485.66</td></tr><tr><td>Val de Marne</td><td>Total</td><td>28485.66</td></tr></table>"
                    },
                    "metadata": {}
                }
            ],
            "execution_count": 13
        },
        {
            "cell_type": "markdown",
            "source": [
                "**Problem 3**"
            ],
            "metadata": {
                "azdata_cell_guid": "d33d1e2e-0d3b-4305-9a43-99ffb9f2f92c"
            },
            "attachments": {}
        },
        {
            "cell_type": "code",
            "source": [
                "SELECT dc.CurrencyName,\n",
                "       ROUND(SUM(fr.SalesAmount), 2) AS TotalSales\n",
                "FROM FactResellerSales fr \n",
                "INNER JOIN DimCurrency dc \n",
                "ON fr.CurrencyKey = dc.CurrencyKey\n",
                "GROUP BY dc.CurrencyName\n",
                "ORDER BY TotalSales DESC"
            ],
            "metadata": {
                "azdata_cell_guid": "7b5a6760-ce43-45c5-a81d-5f9e7e8af8fd",
                "language": "sql"
            },
            "outputs": [
                {
                    "output_type": "display_data",
                    "data": {
                        "text/html": "(5 rows affected)"
                    },
                    "metadata": {}
                },
                {
                    "output_type": "display_data",
                    "data": {
                        "text/html": "Total execution time: 00:00:00.077"
                    },
                    "metadata": {}
                },
                {
                    "output_type": "execute_result",
                    "execution_count": 4,
                    "data": {
                        "application/vnd.dataresource+json": {
                            "schema": {
                                "fields": [
                                    {
                                        "name": "CurrencyName"
                                    },
                                    {
                                        "name": "TotalSales"
                                    }
                                ]
                            },
                            "data": [
                                {
                                    "CurrencyName": "US Dollar",
                                    "TotalSales": "57724791.47"
                                },
                                {
                                    "CurrencyName": "Canadian Dollar",
                                    "TotalSales": "14377925.60"
                                },
                                {
                                    "CurrencyName": "United Kingdom Pound",
                                    "TotalSales": "4279008.83"
                                },
                                {
                                    "CurrencyName": "EURO",
                                    "TotalSales": "2474535.71"
                                },
                                {
                                    "CurrencyName": "Australian Dollar",
                                    "TotalSales": "1594335.38"
                                }
                            ]
                        },
                        "text/html": "<table><tr><th>CurrencyName</th><th>TotalSales</th></tr><tr><td>US Dollar</td><td>57724791.47</td></tr><tr><td>Canadian Dollar</td><td>14377925.60</td></tr><tr><td>United Kingdom Pound</td><td>4279008.83</td></tr><tr><td>EURO</td><td>2474535.71</td></tr><tr><td>Australian Dollar</td><td>1594335.38</td></tr></table>"
                    },
                    "metadata": {}
                }
            ],
            "execution_count": 4
        },
        {
            "cell_type": "markdown",
            "source": [
                "**Problem 4**"
            ],
            "metadata": {
                "azdata_cell_guid": "a841ad1c-8f23-4057-9c7c-043334175428"
            },
            "attachments": {}
        },
        {
            "cell_type": "code",
            "source": [
                "SELECT wider_data.FiscalYear\n",
                "       ,wider_data.EnglishPromotionName\n",
                "       ,wider_data.[2] AS FiscalQ2\n",
                "       ,wider_data.[3] AS FiscalQ3\n",
                "FROM (SELECT d.FiscalYear\n",
                "             ,dp.EnglishPromotionName\n",
                "             ,d.FiscalQuarter\n",
                "             ,ROUND(SUM(fr.SalesAmount),2) AS TotalSales\n",
                "FROM FactResellerSales fr \n",
                "INNER JOIN DimDate d \n",
                "ON fr.OrderDateKey = d.DateKey\n",
                "INNER JOIN DimPromotion dp \n",
                "ON fr.PromotionKey = dp.PromotionKey\n",
                "WHERE dp.EnglishPromotionName = 'Touring-1000 Promotion'\n",
                "OR dp.EnglishPromotionName = 'Touring-3000 Promotion'\n",
                "GROUP BY d.FiscalYear\n",
                "         ,dp.EnglishPromotionName\n",
                "         ,d.FiscalQuarter) AS f_data\n",
                "PIVOT(\n",
                "   SUM(TotalSales)\n",
                "   FOR FiscalQuarter\n",
                "   IN ([2],[3]) ) AS wider_data"
            ],
            "metadata": {
                "azdata_cell_guid": "ff196727-6c61-4c1d-9b1c-94acc4d88ad4",
                "language": "sql"
            },
            "outputs": [
                {
                    "output_type": "display_data",
                    "data": {
                        "text/html": "(2 rows affected)"
                    },
                    "metadata": {}
                },
                {
                    "output_type": "display_data",
                    "data": {
                        "text/html": "Total execution time: 00:00:00.055"
                    },
                    "metadata": {}
                },
                {
                    "output_type": "execute_result",
                    "execution_count": 7,
                    "data": {
                        "application/vnd.dataresource+json": {
                            "schema": {
                                "fields": [
                                    {
                                        "name": "FiscalYear"
                                    },
                                    {
                                        "name": "EnglishPromotionName"
                                    },
                                    {
                                        "name": "FiscalQ2"
                                    },
                                    {
                                        "name": "FiscalQ3"
                                    }
                                ]
                            },
                            "data": [
                                {
                                    "FiscalYear": "2012",
                                    "EnglishPromotionName": "Touring-1000 Promotion",
                                    "FiscalQ2": "133507.92",
                                    "FiscalQ3": "447823.71"
                                },
                                {
                                    "FiscalYear": "2012",
                                    "EnglishPromotionName": "Touring-3000 Promotion",
                                    "FiscalQ2": "95974.72",
                                    "FiscalQ3": "347269.48"
                                }
                            ]
                        },
                        "text/html": "<table><tr><th>FiscalYear</th><th>EnglishPromotionName</th><th>FiscalQ2</th><th>FiscalQ3</th></tr><tr><td>2012</td><td>Touring-1000 Promotion</td><td>133507.92</td><td>447823.71</td></tr><tr><td>2012</td><td>Touring-3000 Promotion</td><td>95974.72</td><td>347269.48</td></tr></table>"
                    },
                    "metadata": {}
                }
            ],
            "execution_count": 7
        },
        {
            "cell_type": "markdown",
            "source": [
                "**Problem 5**"
            ],
            "metadata": {
                "azdata_cell_guid": "55f64c3a-1aeb-47fd-b4a5-0aa8af8949d7"
            },
            "attachments": {}
        },
        {
            "cell_type": "code",
            "source": [
                "SELECT wider_data.FiscalYear\n",
                "       ,wider_data.EnglishPromotionName\n",
                "       ,COALESCE(wider_data.[2], 0) AS FiscalQ2\n",
                "       ,COALESCE(wider_data.[3], 0) AS FiscalQ3\n",
                "FROM (SELECT d.FiscalYear\n",
                "             ,dp.EnglishPromotionName\n",
                "             ,d.FiscalQuarter\n",
                "             ,ROUND(SUM(fi.SalesAmount),2) AS TotalSales\n",
                "FROM FactInternetSales fi \n",
                "INNER JOIN DimDate d \n",
                "ON fi.OrderDateKey = d.DateKey\n",
                "INNER JOIN DimPromotion dp \n",
                "ON fi.PromotionKey = dp.PromotionKey\n",
                "WHERE dp.EnglishPromotionName = 'Touring-1000 Promotion'\n",
                "OR dp.EnglishPromotionName = 'Touring-3000 Promotion'\n",
                "GROUP BY d.FiscalYear\n",
                "         ,dp.EnglishPromotionName\n",
                "         ,d.FiscalQuarter) AS f_data\n",
                "PIVOT(\n",
                "   SUM(TotalSales)\n",
                "   FOR FiscalQuarter\n",
                "   IN ([2],[3]) ) AS wider_data"
            ],
            "metadata": {
                "azdata_cell_guid": "b31c61d5-07e7-4858-a769-084935a9e78d",
                "language": "sql"
            },
            "outputs": [
                {
                    "output_type": "display_data",
                    "data": {
                        "text/html": "(2 rows affected)"
                    },
                    "metadata": {}
                },
                {
                    "output_type": "display_data",
                    "data": {
                        "text/html": "Total execution time: 00:00:00.066"
                    },
                    "metadata": {}
                },
                {
                    "output_type": "execute_result",
                    "execution_count": 9,
                    "data": {
                        "application/vnd.dataresource+json": {
                            "schema": {
                                "fields": [
                                    {
                                        "name": "FiscalYear"
                                    },
                                    {
                                        "name": "EnglishPromotionName"
                                    },
                                    {
                                        "name": "FiscalQ2"
                                    },
                                    {
                                        "name": "FiscalQ3"
                                    }
                                ]
                            },
                            "data": [
                                {
                                    "FiscalYear": "2012",
                                    "EnglishPromotionName": "Touring-1000 Promotion",
                                    "FiscalQ2": "0.00",
                                    "FiscalQ3": "30992.91"
                                },
                                {
                                    "FiscalYear": "2012",
                                    "EnglishPromotionName": "Touring-3000 Promotion",
                                    "FiscalQ2": "0.00",
                                    "FiscalQ3": "14847.00"
                                }
                            ]
                        },
                        "text/html": "<table><tr><th>FiscalYear</th><th>EnglishPromotionName</th><th>FiscalQ2</th><th>FiscalQ3</th></tr><tr><td>2012</td><td>Touring-1000 Promotion</td><td>0.00</td><td>30992.91</td></tr><tr><td>2012</td><td>Touring-3000 Promotion</td><td>0.00</td><td>14847.00</td></tr></table>"
                    },
                    "metadata": {}
                }
            ],
            "execution_count": 9
        }
    ]
}